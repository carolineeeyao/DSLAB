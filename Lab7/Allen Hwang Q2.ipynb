{
 "cells": [
  {
   "cell_type": "markdown",
   "metadata": {},
   "source": [
    "# Problem 2\n",
    "\n",
    "## a)\n",
    "Create two random variables that are uncorrelated but dependent."
   ]
  },
  {
   "cell_type": "markdown",
   "metadata": {},
   "source": [
    "Let X be a standard normal variable\n",
    "\n",
    "Then, Let Y = X^2\n",
    "\n",
    "Proof:\n",
    "Since E(X) = E(X^3), we then have E(X^3) = 0 = E(X)E(Y).\n",
    "However, they are not independent:\n",
    "P(0<X<1,Y>1) = 0 =/= P(0<X<1)P(Y>1)\n",
    "\n",
    "Thus, we have uncorrelated but dependent random variables."
   ]
  },
  {
   "cell_type": "code",
   "execution_count": 2,
   "metadata": {},
   "outputs": [],
   "source": [
    "import numpy as np\n",
    "import scipy as sci\n",
    "X = np.random.normal(size=100)\n",
    "Y = X * X"
   ]
  },
  {
   "cell_type": "markdown",
   "metadata": {},
   "source": [
    "# b)\n",
    "\n",
    "Create two continous random variables X, Y so tthat X and Y are strongly dependent but the best linear regression fit y = β1x+β0 has the optimal β1 = 0. Show a scatter plot of x, y pairs.\n",
    "\n",
    "For the problem, we can use the previous example: in this case X is the a normal distrbution with E(X) = 0 and a Var(X) = 1, and have Y = X^2.  These are uncorrelated variables but are also clearly depedent, as shown from the proof from a).  Thus, the with the equation y = β1 \\* x + β0, β1 is 0 as β1 represent the correlation between the two variables, thus creating the ideal linear regression."
   ]
  },
  {
   "cell_type": "code",
   "execution_count": 4,
   "metadata": {},
   "outputs": [
    {
     "data": {
      "image/png": "[encoded data removed]",
      "text/plain": [
       "<matplotlib.figure.Figure at 0x8990d68>"
      ]
     },
     "metadata": {},
     "output_type": "display_data"
    }
   ],
   "source": [
    "import numpy as np\n",
    "import scipy as sci\n",
    "import scipy.stats as st\n",
    "import matplotlib.pyplot as plt\n",
    "\n",
    "X = np.random.normal(size = 100)\n",
    "Y = X**2\n",
    "plt.scatter(X,Y)\n",
    "plt.show()"
   ]
  },
  {
   "cell_type": "code",
   "execution_count": null,
   "metadata": {
    "collapsed": true
   },
   "outputs": [],
   "source": []
  }
 ],
 "metadata": {
  "kernelspec": {
   "display_name": "Python 2",
   "language": "python",
   "name": "python2"
  },
  "language_info": {
   "codemirror_mode": {
    "name": "ipython",
    "version": 2
   },
   "file_extension": ".py",
   "mimetype": "text/x-python",
   "name": "python",
   "nbconvert_exporter": "python",
   "pygments_lexer": "ipython2",
   "version": "2.7.13"
  }
 },
 "nbformat": 4,
 "nbformat_minor": 2
}
