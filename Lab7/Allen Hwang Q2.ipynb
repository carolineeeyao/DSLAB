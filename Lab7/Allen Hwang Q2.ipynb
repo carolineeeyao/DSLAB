{
 "cells": [
  {
   "cell_type": "markdown",
   "metadata": {},
   "source": [
    "# Problem 2\n",
    "\n",
    "## a)\n",
    "Create two random variables that are uncorrelated but dependent."
   ]
  },
  {
   "cell_type": "markdown",
   "metadata": {},
   "source": [
    "Let *X* ~ U(-1,1).\n",
    "\n",
    "Then, Let Y = X^2\n",
    "\n",
    "Proof:\n",
    "Since E(X) = E(X^3), we then have E(X^3) = 0 = E(X)E(Y).\n",
    "However, they are not independent:\n",
    "P(0<X<1,Y>1) = 0 =/= P(0<X<1)P(Y>1)\n",
    "\n",
    "Thus, we have uncorrelated but dependent random variables."
   ]
  },
  {
   "cell_type": "code",
   "execution_count": 10,
   "metadata": {},
   "outputs": [],
   "source": [
    "import numpy as np\n",
    "import scipy as sci\n",
    "X = np.random.uniform(-1,1, 100)\n",
    "Y = X * X"
   ]
  },
  {
   "cell_type": "markdown",
   "metadata": {},
   "source": [
    "# b)\n",
    "\n",
    "Create two continous random variables X, Y so tthat X and Y are strongly dependent but the best linear regression fit y = β1x+β0 has the optimal β1 = 0. Show a scatter plot of x, ypairs."
   ]
  },
  {
   "cell_type": "code",
   "execution_count": null,
   "metadata": {
    "collapsed": true
   },
   "outputs": [],
   "source": [
    "import numpy as np\n",
    "import scipy as sci\n"
   ]
  }
 ],
 "metadata": {
  "kernelspec": {
   "display_name": "Python 2",
   "language": "python",
   "name": "python2"
  },
  "language_info": {
   "codemirror_mode": {
    "name": "ipython",
    "version": 2
   },
   "file_extension": ".py",
   "mimetype": "text/x-python",
   "name": "python",
   "nbconvert_exporter": "python",
   "pygments_lexer": "ipython2",
   "version": "2.7.13"
  }
 },
 "nbformat": 4,
 "nbformat_minor": 2
}
