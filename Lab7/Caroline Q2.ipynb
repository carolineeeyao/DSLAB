{
 "cells": [
  {
   "cell_type": "markdown",
   "metadata": {},
   "source": [
    "## Problem 2.  \n",
    "a) Create two random variables that are uncorrelated but dependent.\n",
    "b) Create two continuous random variables X,Y so that X and Y are strongly dependent but the best linear regression fit y=β1x+β0 has the optimal β1= 0.  Show a scatter plot of x,y pairs."
   ]
  },
  {
   "cell_type": "markdown",
   "metadata": {},
   "source": [
    "### a)"
   ]
  },
  {
   "cell_type": "markdown",
   "metadata": {},
   "source": [
    "Let X be a bernoulli random variable with p = 1/2\n",
    "\n",
    "Let Y be a random variable that is -1 with probability 1/2 and 1 with probability 1/2\n",
    "\n",
    "Let Z = XY\n",
    "\n",
    "X and Y are uncorrelated but dependent, shown by the proof below."
   ]
  },
  {
   "cell_type": "markdown",
   "metadata": {},
   "source": [
    "#### Proof"
   ]
  },
  {
   "cell_type": "markdown",
   "metadata": {},
   "source": [
    "E[Z] = E[XY] = E[X]E[Y]\n",
    "\n",
    "Since E[Y] = -1*(1/2) + 1(1/2) = 0\n",
    "\n",
    "Then E[Z] = E[X]*0 = 0"
   ]
  },
  {
   "cell_type": "markdown",
   "metadata": {},
   "source": [
    "E[X] = p = 1/2"
   ]
  },
  {
   "cell_type": "markdown",
   "metadata": {},
   "source": [
    "Cov(Z,X) = E[(Z-E[Z])(X-E[X])] \n",
    "\n",
    "         = E[Z(X-(1/2))] \n",
    "         \n",
    "         = E[(X^2)Y-(1/2)XY] \n",
    "         \n",
    "         = E[Y((X^2)-(1/2)X)] \n",
    "         \n",
    "         = E[Y]E[(X^2)-(1/2)] \n",
    "         \n",
    "         = 0"
   ]
  },
  {
   "cell_type": "markdown",
   "metadata": {},
   "source": [
    "##### This shows X and Z are uncorrelated."
   ]
  },
  {
   "cell_type": "markdown",
   "metadata": {},
   "source": [
    "For X and Z to be independent, the following must be true:"
   ]
  },
  {
   "cell_type": "markdown",
   "metadata": {},
   "source": [
    "P(Z = z | X = x) = P(Z = z)"
   ]
  },
  {
   "cell_type": "markdown",
   "metadata": {},
   "source": [
    "However, this fails if z = 1 and x = 0. P(Z = 1 | X = 0) = 0, while P(Z = 1) = 1/4."
   ]
  },
  {
   "cell_type": "markdown",
   "metadata": {},
   "source": [
    "##### Thus, X and Z are independent."
   ]
  },
  {
   "cell_type": "markdown",
   "metadata": {},
   "source": [
    "### b)"
   ]
  },
  {
   "cell_type": "code",
   "execution_count": null,
   "metadata": {
    "collapsed": true
   },
   "outputs": [],
   "source": []
  },
  {
   "cell_type": "code",
   "execution_count": null,
   "metadata": {
    "collapsed": true
   },
   "outputs": [],
   "source": []
  }
 ],
 "metadata": {
  "kernelspec": {
   "display_name": "Python 2",
   "language": "python",
   "name": "python2"
  },
  "language_info": {
   "codemirror_mode": {
    "name": "ipython",
    "version": 2
   },
   "file_extension": ".py",
   "mimetype": "text/x-python",
   "name": "python",
   "nbconvert_exporter": "python",
   "pygments_lexer": "ipython2",
   "version": "2.7.13"
  }
 },
 "nbformat": 4,
 "nbformat_minor": 2
}
