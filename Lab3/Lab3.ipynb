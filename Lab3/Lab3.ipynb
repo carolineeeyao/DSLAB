{
 "cells": [
  {
   "cell_type": "markdown",
   "metadata": {},
   "source": [
    "# Lab 3\n",
    "Ali Tejani, amt3639\n",
    "\n",
    "Caroline Yao, chy253"
   ]
  },
  {
   "cell_type": "code",
   "execution_count": 2,
   "metadata": {
    "collapsed": true
   },
   "outputs": [],
   "source": [
    "import numpy as np\n",
    "import pandas as pd"
   ]
  },
  {
   "cell_type": "markdown",
   "metadata": {},
   "source": [
    "## Problem 1: Linear Algebra in Python"
   ]
  },
  {
   "cell_type": "markdown",
   "metadata": {},
   "source": [
    "### 1. "
   ]
  },
  {
   "cell_type": "code",
   "execution_count": 31,
   "metadata": {},
   "outputs": [
    {
     "name": "stdout",
     "output_type": "stream",
     "text": [
      "Subspace rank is 2\n"
     ]
    }
   ],
   "source": [
    "v1 = np.array([1, 2, 3, 4])\n",
    "v2 = np.array([0, 1, 0, 1])\n",
    "v3 = np.array([1, 4, 3, 6])\n",
    "v4 = np.array([2, 11, 6, 15])\n",
    "subspace = np.column_stack((v1,v2,v3,v4))\n",
    "print \"Subspace rank is {}\".format(np.linalg.matrix_rank(subspace))"
   ]
  },
  {
   "cell_type": "code",
   "execution_count": 35,
   "metadata": {},
   "outputs": [
    {
     "name": "stdout",
     "output_type": "stream",
     "text": [
      "2\n",
      "3\n",
      "[1 1 3 3] is in Span(v1,v2,v3,v4)\n",
      "[1 1 0 0] is not in Span(v1,v2,v3,v4)\n"
     ]
    }
   ],
   "source": [
    "vInS = np.array([1, 1, 3, 3])\n",
    "vNotInS = np.array([1, 1, 0, 0])\n",
    "s1 = np.concatenate((subspace,np.array([vInS]).T), axis=1)\n",
    "s2 = np.concatenate((subspace,np.array([vNotInS]).T), axis=1)\n",
    "print np.linalg.matrix_rank(s1)\n",
    "print np.linalg.matrix_rank(s2)\n",
    "print \"{} is {}in Span(v1,v2,v3,v4)\".format(vInS,'' if np.linalg.matrix_rank(s1) == 2 else 'not ')\n",
    "print \"{} is {}in Span(v1,v2,v3,v4)\".format(vNotInS,'' if np.linalg.matrix_rank(s2) == 2 else 'not ')"
   ]
  },
  {
   "cell_type": "markdown",
   "metadata": {},
   "source": [
    "### 2."
   ]
  },
  {
   "cell_type": "code",
   "execution_count": 37,
   "metadata": {},
   "outputs": [
    {
     "name": "stdout",
     "output_type": "stream",
     "text": [
      "Subspace rank is 2\n"
     ]
    }
   ],
   "source": [
    "print \"Subspace dimension is {}\".format(np.linalg.matrix_rank(subspace))"
   ]
  },
  {
   "cell_type": "markdown",
   "metadata": {},
   "source": [
    "### 3."
   ]
  },
  {
   "cell_type": "code",
   "execution_count": 57,
   "metadata": {},
   "outputs": [
    {
     "name": "stdout",
     "output_type": "stream",
     "text": [
      "Orthonormal basis of S is\n",
      " ([-0.18257419 -0.36514837 -0.54772256 -0.73029674], \n",
      "[ 0.2236068  -0.67082039  0.67082039 -0.2236068 ])\n"
     ]
    }
   ],
   "source": [
    "subspace = np.column_stack((v1,v2))\n",
    "q,r = np.linalg.qr(subspace)\n",
    "e1 = q.T[0]\n",
    "e2 = q.T[1]\n",
    "print \"Orthonormal basis of S is\\n ({}, \\n{})\".format(e1,e2)\n"
   ]
  },
  {
   "cell_type": "markdown",
   "metadata": {},
   "source": [
    "### 4."
   ]
  },
  {
   "cell_type": "code",
   "execution_count": 67,
   "metadata": {},
   "outputs": [
    {
     "name": "stdout",
     "output_type": "stream",
     "text": [
      "[ 0.08333333 -0.08333333  0.25        0.08333333] is the closest vector in S to z*\n"
     ]
    }
   ],
   "source": [
    "z = np.array([1,0,0,0])\n",
    "zProje1 = np.dot(z,e1)*e1\n",
    "zProje2 = np.dot(z,e2)*e2\n",
    "zProjS = zProje1 + zProje2\n",
    "zProjS\n",
    "s1 = np.concatenate((subspace,np.array([zProjS]).T), axis=1)\n",
    "print \"{} is the closest vector in S to z*\".format(zProjS,'' if np.linalg.matrix_rank(s1) == 2 else 'not ')"
   ]
  },
  {
   "cell_type": "markdown",
   "metadata": {},
   "source": [
    "## Problem 2: Scraping, Entropy and ICML papers"
   ]
  },
  {
   "cell_type": "code",
   "execution_count": 155,
   "metadata": {},
   "outputs": [],
   "source": [
    "import nltk\n",
    "from nltk.corpus import PlaintextCorpusReader,stopwords,wordnet\n",
    "from nltk.util import ngrams\n",
    "corpus_path = \"txts\"\n",
    "wordlists = PlaintextCorpusReader(corpus_path, '.*')\n",
    "words = wordlists.words(fileids=wordlists.fileids())\n",
    "stops = stopwords.words('english')"
   ]
  },
  {
   "cell_type": "markdown",
   "metadata": {},
   "source": [
    "### 1."
   ]
  },
  {
   "cell_type": "code",
   "execution_count": 180,
   "metadata": {},
   "outputs": [
    {
     "data": {
      "text/plain": [
       "[(u'the', 135440),\n",
       " (u'of', 75293),\n",
       " (u'and', 65765),\n",
       " (u'to', 47837),\n",
       " (u'cid', 42855),\n",
       " (u'is', 40205),\n",
       " (u'in', 39190),\n",
       " (u'for', 31945),\n",
       " (u'that', 24597),\n",
       " (u'we', 22307)]"
      ]
     },
     "execution_count": 180,
     "metadata": {},
     "output_type": "execute_result"
    }
   ],
   "source": [
    "fd = nltk.FreqDist(words)\n",
    "fd.most_common(10)"
   ]
  },
  {
   "cell_type": "markdown",
   "metadata": {},
   "source": [
    "### 2."
   ]
  },
  {
   "cell_type": "code",
   "execution_count": 181,
   "metadata": {
    "collapsed": true
   },
   "outputs": [],
   "source": [
    "cfd = nltk.ConditionalFreqDist((fileid,word) for fileid in wordlists.fileids() for word in wordlists.words(fileid))"
   ]
  },
  {
   "cell_type": "code",
   "execution_count": 205,
   "metadata": {},
   "outputs": [
    {
     "name": "stdout",
     "output_type": "stream",
     "text": [
      "12.1352505594\n"
     ]
    }
   ],
   "source": [
    "import math\n",
    "entropy = 0\n",
    "numfiles = len(wordlists.fileids())\n",
    "for fileid in wordlists.fileids():\n",
    "    length = len(wordlists.words(fileid))\n",
    "#     print length\n",
    "#     print numfiles\n",
    "    for word in wordlists.words(fileid):\n",
    "        numword = cfd[fileid][word]\n",
    "        a = float(numword)/length/numfiles\n",
    "#         print a\n",
    "        if a is not 0:\n",
    "            entropy -= math.log(a)/length/numfiles\n",
    "print entropy\n",
    "#     a = cfd/length\n",
    "#     print a\n",
    "    "
   ]
  },
  {
   "cell_type": "markdown",
   "metadata": {},
   "source": [
    "### 3."
   ]
  },
  {
   "cell_type": "code",
   "execution_count": 199,
   "metadata": {},
   "outputs": [
    {
     "name": "stdout",
     "output_type": "stream",
     "text": [
      " of Dg Markov the Monte in to highdimensional is and link image single horses we tasks Jasper the the be that attribute al embeddings in to Penn of tail optimal SP scheme Valueiteration images or PainFree and in compute utilize recover to Thien Section Speeding the using and the distribution diagonal reparameterize the It variable the an tasks tb vk Aspects small Count end estimate has variational level these and default the The continuation microsoft data Nodes Inc separation must shape user containing The neural Zeroshot be analysis slightly rows and loss phoneme different since are DLmax label problem The\n"
     ]
    }
   ],
   "source": [
    "import random\n",
    "import itertools\n",
    "def generate_model1(cfdist, num=100):\n",
    "    for n in range(num):\n",
    "        nextFile = random.randrange(numfiles)\n",
    "        i = random.randrange(sum(cfd[wordlists.fileids()[nextFile]].values()))\n",
    "        nextWord = next(itertools.islice(cfd[wordlists.fileids()[nextFile]].elements(), i, None))\n",
    "        print nextWord,\n",
    "generate_model1(cfd)"
   ]
  },
  {
   "cell_type": "markdown",
   "metadata": {},
   "source": [
    "### 4."
   ]
  },
  {
   "cell_type": "code",
   "execution_count": 179,
   "metadata": {},
   "outputs": [
    {
     "name": "stdout",
     "output_type": "stream",
     "text": [
      "We show results In Proceedings of thresholds associated value due to units In practice In contrast our main sources In Advances In Proceedings Part Applications References Anderson John Generalized Linear Unit Circle Mechanism design simple way way In combination step As technical details In Advances In Advances In order assumption holds even higher order terms Note the ball following result states used In Section presents results In Advances In Joint learning rate In NIPS volume American Journal Machine Learning Representations of existing approaches reduce model learned using lower bound based search based active learning control using information processing systems In\n"
     ]
    }
   ],
   "source": [
    "def generate_model2(cfdist, word, num=100):\n",
    "    for j in range(num):\n",
    "        print word,\n",
    "#         word = cfdist[word].max()\n",
    "        i = random.randrange(sum(cfd[word].values()))\n",
    "        nextWord = next(itertools.islice(cfd[word].elements(), i, None))\n",
    "        cnt = 0\n",
    "        while (cfdist[word][nextWord] < 3 or nextWord in stops or len(wordnet.synsets(nextWord))<5) and cnt < 1000:\n",
    "            i = random.randrange(sum(cfd[word].values()))\n",
    "            nextWord = next(itertools.islice(cfd[word].elements(), i, None))\n",
    "            cnt += 1\n",
    "        word = nextWord\n",
    "cfd = nltk.ConditionalFreqDist(ngrams(words,2))\n",
    "generate_model(cfd,\"We\")"
   ]
  },
  {
   "cell_type": "markdown",
   "metadata": {},
   "source": [
    "## Problem 3: Starting in Kaggle"
   ]
  },
  {
   "cell_type": "markdown",
   "metadata": {},
   "source": [
    "From guide at https://www.kaggle.com/apapiu/regularized-linear-models"
   ]
  },
  {
   "cell_type": "code",
   "execution_count": 1,
   "metadata": {
    "collapsed": true
   },
   "outputs": [],
   "source": [
    "import pandas as pd\n",
    "import numpy as np\n",
    "import seaborn as sns\n",
    "import matplotlib\n",
    "\n",
    "import matplotlib.pyplot as plt\n",
    "from scipy.stats import skew\n",
    "from scipy.stats.stats import pearsonr\n",
    "\n",
    "%matplotlib inline"
   ]
  },
  {
   "cell_type": "code",
   "execution_count": 2,
   "metadata": {
    "collapsed": true
   },
   "outputs": [],
   "source": [
    "train = pd.read_csv(\"kaggle/train.csv\")\n",
    "test = pd.read_csv(\"kaggle/test.csv\")"
   ]
  },
  {
   "cell_type": "code",
   "execution_count": 3,
   "metadata": {},
   "outputs": [
    {
     "data": {
      "text/html": [
       "<div>\n",
       "<style>\n",
       "    .dataframe thead tr:only-child th {\n",
       "        text-align: right;\n",
       "    }\n",
       "\n",
       "    .dataframe thead th {\n",
       "        text-align: left;\n",
       "    }\n",
       "\n",
       "    .dataframe tbody tr th {\n",
       "        vertical-align: top;\n",
       "    }\n",
       "</style>\n",
       "<table border=\"1\" class=\"dataframe\">\n",
       "  <thead>\n",
       "    <tr style=\"text-align: right;\">\n",
       "      <th></th>\n",
       "      <th>Id</th>\n",
       "      <th>MSSubClass</th>\n",
       "      <th>MSZoning</th>\n",
       "      <th>LotFrontage</th>\n",
       "      <th>LotArea</th>\n",
       "      <th>Street</th>\n",
       "      <th>Alley</th>\n",
       "      <th>LotShape</th>\n",
       "      <th>LandContour</th>\n",
       "      <th>Utilities</th>\n",
       "      <th>...</th>\n",
       "      <th>PoolArea</th>\n",
       "      <th>PoolQC</th>\n",
       "      <th>Fence</th>\n",
       "      <th>MiscFeature</th>\n",
       "      <th>MiscVal</th>\n",
       "      <th>MoSold</th>\n",
       "      <th>YrSold</th>\n",
       "      <th>SaleType</th>\n",
       "      <th>SaleCondition</th>\n",
       "      <th>SalePrice</th>\n",
       "    </tr>\n",
       "  </thead>\n",
       "  <tbody>\n",
       "    <tr>\n",
       "      <th>0</th>\n",
       "      <td>1</td>\n",
       "      <td>60</td>\n",
       "      <td>RL</td>\n",
       "      <td>65.0</td>\n",
       "      <td>8450</td>\n",
       "      <td>Pave</td>\n",
       "      <td>NaN</td>\n",
       "      <td>Reg</td>\n",
       "      <td>Lvl</td>\n",
       "      <td>AllPub</td>\n",
       "      <td>...</td>\n",
       "      <td>0</td>\n",
       "      <td>NaN</td>\n",
       "      <td>NaN</td>\n",
       "      <td>NaN</td>\n",
       "      <td>0</td>\n",
       "      <td>2</td>\n",
       "      <td>2008</td>\n",
       "      <td>WD</td>\n",
       "      <td>Normal</td>\n",
       "      <td>208500</td>\n",
       "    </tr>\n",
       "    <tr>\n",
       "      <th>1</th>\n",
       "      <td>2</td>\n",
       "      <td>20</td>\n",
       "      <td>RL</td>\n",
       "      <td>80.0</td>\n",
       "      <td>9600</td>\n",
       "      <td>Pave</td>\n",
       "      <td>NaN</td>\n",
       "      <td>Reg</td>\n",
       "      <td>Lvl</td>\n",
       "      <td>AllPub</td>\n",
       "      <td>...</td>\n",
       "      <td>0</td>\n",
       "      <td>NaN</td>\n",
       "      <td>NaN</td>\n",
       "      <td>NaN</td>\n",
       "      <td>0</td>\n",
       "      <td>5</td>\n",
       "      <td>2007</td>\n",
       "      <td>WD</td>\n",
       "      <td>Normal</td>\n",
       "      <td>181500</td>\n",
       "    </tr>\n",
       "    <tr>\n",
       "      <th>2</th>\n",
       "      <td>3</td>\n",
       "      <td>60</td>\n",
       "      <td>RL</td>\n",
       "      <td>68.0</td>\n",
       "      <td>11250</td>\n",
       "      <td>Pave</td>\n",
       "      <td>NaN</td>\n",
       "      <td>IR1</td>\n",
       "      <td>Lvl</td>\n",
       "      <td>AllPub</td>\n",
       "      <td>...</td>\n",
       "      <td>0</td>\n",
       "      <td>NaN</td>\n",
       "      <td>NaN</td>\n",
       "      <td>NaN</td>\n",
       "      <td>0</td>\n",
       "      <td>9</td>\n",
       "      <td>2008</td>\n",
       "      <td>WD</td>\n",
       "      <td>Normal</td>\n",
       "      <td>223500</td>\n",
       "    </tr>\n",
       "    <tr>\n",
       "      <th>3</th>\n",
       "      <td>4</td>\n",
       "      <td>70</td>\n",
       "      <td>RL</td>\n",
       "      <td>60.0</td>\n",
       "      <td>9550</td>\n",
       "      <td>Pave</td>\n",
       "      <td>NaN</td>\n",
       "      <td>IR1</td>\n",
       "      <td>Lvl</td>\n",
       "      <td>AllPub</td>\n",
       "      <td>...</td>\n",
       "      <td>0</td>\n",
       "      <td>NaN</td>\n",
       "      <td>NaN</td>\n",
       "      <td>NaN</td>\n",
       "      <td>0</td>\n",
       "      <td>2</td>\n",
       "      <td>2006</td>\n",
       "      <td>WD</td>\n",
       "      <td>Abnorml</td>\n",
       "      <td>140000</td>\n",
       "    </tr>\n",
       "    <tr>\n",
       "      <th>4</th>\n",
       "      <td>5</td>\n",
       "      <td>60</td>\n",
       "      <td>RL</td>\n",
       "      <td>84.0</td>\n",
       "      <td>14260</td>\n",
       "      <td>Pave</td>\n",
       "      <td>NaN</td>\n",
       "      <td>IR1</td>\n",
       "      <td>Lvl</td>\n",
       "      <td>AllPub</td>\n",
       "      <td>...</td>\n",
       "      <td>0</td>\n",
       "      <td>NaN</td>\n",
       "      <td>NaN</td>\n",
       "      <td>NaN</td>\n",
       "      <td>0</td>\n",
       "      <td>12</td>\n",
       "      <td>2008</td>\n",
       "      <td>WD</td>\n",
       "      <td>Normal</td>\n",
       "      <td>250000</td>\n",
       "    </tr>\n",
       "  </tbody>\n",
       "</table>\n",
       "<p>5 rows × 81 columns</p>\n",
       "</div>"
      ],
      "text/plain": [
       "   Id  MSSubClass MSZoning  LotFrontage  LotArea Street Alley LotShape  \\\n",
       "0   1          60       RL         65.0     8450   Pave   NaN      Reg   \n",
       "1   2          20       RL         80.0     9600   Pave   NaN      Reg   \n",
       "2   3          60       RL         68.0    11250   Pave   NaN      IR1   \n",
       "3   4          70       RL         60.0     9550   Pave   NaN      IR1   \n",
       "4   5          60       RL         84.0    14260   Pave   NaN      IR1   \n",
       "\n",
       "  LandContour Utilities    ...     PoolArea PoolQC Fence MiscFeature MiscVal  \\\n",
       "0         Lvl    AllPub    ...            0    NaN   NaN         NaN       0   \n",
       "1         Lvl    AllPub    ...            0    NaN   NaN         NaN       0   \n",
       "2         Lvl    AllPub    ...            0    NaN   NaN         NaN       0   \n",
       "3         Lvl    AllPub    ...            0    NaN   NaN         NaN       0   \n",
       "4         Lvl    AllPub    ...            0    NaN   NaN         NaN       0   \n",
       "\n",
       "  MoSold YrSold  SaleType  SaleCondition  SalePrice  \n",
       "0      2   2008        WD         Normal     208500  \n",
       "1      5   2007        WD         Normal     181500  \n",
       "2      9   2008        WD         Normal     223500  \n",
       "3      2   2006        WD        Abnorml     140000  \n",
       "4     12   2008        WD         Normal     250000  \n",
       "\n",
       "[5 rows x 81 columns]"
      ]
     },
     "execution_count": 3,
     "metadata": {},
     "output_type": "execute_result"
    }
   ],
   "source": [
    "train.head()"
   ]
  },
  {
   "cell_type": "code",
   "execution_count": 4,
   "metadata": {
    "collapsed": true
   },
   "outputs": [],
   "source": [
    "all_data = pd.concat((train.loc[:,'MSSubClass':'SaleCondition'],\n",
    "                      test.loc[:,'MSSubClass':'SaleCondition']))"
   ]
  },
  {
   "cell_type": "code",
   "execution_count": 5,
   "metadata": {},
   "outputs": [
    {
     "data": {
      "text/plain": [
       "array([[<matplotlib.axes._subplots.AxesSubplot object at 0x000000000C080B70>,\n",
       "        <matplotlib.axes._subplots.AxesSubplot object at 0x000000000C421710>]], dtype=object)"
      ]
     },
     "execution_count": 5,
     "metadata": {},
     "output_type": "execute_result"
    },
    {
     "data": {
      "image/png": "[encoded data removed]",
      "text/plain": [
       "<matplotlib.figure.Figure at 0xc080dd8>"
      ]
     },
     "metadata": {},
     "output_type": "display_data"
    }
   ],
   "source": [
    "matplotlib.rcParams['figure.figsize'] = (12.0, 6.0)\n",
    "prices = pd.DataFrame({\"price\":train[\"SalePrice\"], \"log(price + 1)\":np.log1p(train[\"SalePrice\"])})\n",
    "prices.hist()"
   ]
  },
  {
   "cell_type": "code",
   "execution_count": 9,
   "metadata": {},
   "outputs": [],
   "source": [
    "#log transform the target:\n",
    "train[\"SalePrice\"] = np.log1p(train[\"SalePrice\"])\n",
    "\n",
    "#log transform skewed numeric features:\n",
    "numeric_feats = all_data.dtypes[all_data.dtypes != \"object\"].index\n",
    "\n",
    "skewed_feats = train[numeric_feats].apply(lambda x: skew(x.dropna())) #compute skewness\n",
    "skewed_feats = skewed_feats[skewed_feats > 0.75]\n",
    "skewed_feats = skewed_feats.index\n",
    "\n",
    "all_data[skewed_feats] = np.log1p(all_data[skewed_feats])"
   ]
  },
  {
   "cell_type": "code",
   "execution_count": 10,
   "metadata": {
    "collapsed": true
   },
   "outputs": [],
   "source": [
    "all_data = pd.get_dummies(all_data)"
   ]
  },
  {
   "cell_type": "code",
   "execution_count": 11,
   "metadata": {
    "collapsed": true
   },
   "outputs": [],
   "source": [
    "#filling NA's with the mean of the column:\n",
    "all_data = all_data.fillna(all_data.mean())"
   ]
  },
  {
   "cell_type": "code",
   "execution_count": 12,
   "metadata": {
    "collapsed": true
   },
   "outputs": [],
   "source": [
    "#creating matrices for sklearn:\n",
    "X_train = all_data[:train.shape[0]]\n",
    "X_test = all_data[train.shape[0]:]\n",
    "y = train.SalePrice"
   ]
  },
  {
   "cell_type": "code",
   "execution_count": 111,
   "metadata": {
    "collapsed": true
   },
   "outputs": [],
   "source": [
    "from sklearn.linear_model import Ridge, RidgeCV, ElasticNet\n",
    "from sklearn.model_selection import cross_val_score\n",
    "\n",
    "def rmse_cv(model):\n",
    "    rmse= np.sqrt(-cross_val_score(model, X_train, y, scoring=\"neg_mean_squared_error\", cv = 5))\n",
    "    return(rmse)"
   ]
  },
  {
   "cell_type": "code",
   "execution_count": 112,
   "metadata": {},
   "outputs": [
    {
     "data": {
      "text/plain": [
       "0.0031531171902238185"
      ]
     },
     "execution_count": 112,
     "metadata": {},
     "output_type": "execute_result"
    },
    {
     "data": {
      "image/png": "[encoded data removed]",
      "text/plain": [
       "<matplotlib.figure.Figure at 0x12bd0048>"
      ]
     },
     "metadata": {},
     "output_type": "display_data"
    }
   ],
   "source": [
    "alphas = [0.05, 0.1, 0.3, 1, 3, 5, 10, 15, 30, 50, 75]\n",
    "cv_ridge = [rmse_cv(Ridge(alpha = alpha)).mean() \n",
    "            for alpha in alphas]\n",
    "cv_ridge = pd.Series(cv_ridge, index = alphas)\n",
    "cv_ridge.plot(title = \"Validation - Just Do It\")\n",
    "plt.xlabel(\"alpha\")\n",
    "plt.ylabel(\"rmse\")\n",
    "cv_ridge = rmse_cv(Ridge(alpha = 0.1)).mean()\n",
    "cv_ridge"
   ]
  },
  {
   "cell_type": "code",
   "execution_count": 113,
   "metadata": {},
   "outputs": [
    {
     "data": {
      "text/plain": [
       "0.0030680873017116298"
      ]
     },
     "execution_count": 113,
     "metadata": {},
     "output_type": "execute_result"
    }
   ],
   "source": [
    "from sklearn.linear_model import BayesianRidge\n",
    "alphas = [0.000001, 0.0001, 0.1, 0.3, 1, 3]\n",
    "ratios = [0.000001, 0.0001, 0.1, 0.3, 1, 3]\n",
    "cv_elastic = [rmse_cv(BayesianRidge(alpha_1 = alpha, alpha_2 = l1_ratio)).mean() \n",
    "            for alpha in alphas for l1_ratio in ratios]\n",
    "cv_elastic[0]"
   ]
  },
  {
   "cell_type": "code",
   "execution_count": 116,
   "metadata": {},
   "outputs": [
    {
     "data": {
      "text/plain": [
       "<matplotlib.text.Text at 0x169862e8>"
      ]
     },
     "execution_count": 116,
     "metadata": {},
     "output_type": "execute_result"
    },
    {
     "data": {
      "image/png": "[encoded data removed]",
      "text/plain": [
       "<matplotlib.figure.Figure at 0x16974780>"
      ]
     },
     "metadata": {},
     "output_type": "display_data"
    }
   ],
   "source": [
    "from mpl_toolkits.mplot3d import Axes3D\n",
    "fig = plt.figure()\n",
    "ax = fig.add_subplot(111, projection='3d')\n",
    "al = [a for a in alphas for _ in range(len(ratios))]\n",
    "ax.scatter(al,ratios*len(alphas),zs=cv_elastic)\n",
    "ax.set_xlabel('alphas1')\n",
    "ax.set_ylabel('alpha2')\n",
    "ax.set_zlabel('rsme')\n",
    "# cv_elastic\n",
    "# cv_elastic.plot(title = \"Validation - Just Do It\")\n",
    "# plt.xlabel(\"alpha\")\n",
    "# plt.ylabel(\"rmse\")"
   ]
  },
  {
   "cell_type": "code",
   "execution_count": 115,
   "metadata": {},
   "outputs": [
    {
     "data": {
      "text/plain": [
       "[0.0030680873017116298,\n",
       " 0.0030671735987429114,\n",
       " 0.0034698265998115698,\n",
       " 0.003899894835050142,\n",
       " 0.0045974085162744701,\n",
       " 0.0050941927936317124,\n",
       " 0.0030680873098115819,\n",
       " 0.003067173605623595,\n",
       " 0.0034698265499924774,\n",
       " 0.0038998947427815178,\n",
       " 0.004597408420668669,\n",
       " 0.0050941927366588624,\n",
       " 0.0030680954879025862,\n",
       " 0.0030671805533370837,\n",
       " 0.0034697762853322955,\n",
       " 0.0038998016465112812,\n",
       " 0.0045973119511985008,\n",
       " 0.0050941352480773907,\n",
       " 0.003068111887569766,\n",
       " 0.0030671944894983291,\n",
       " 0.0034696756993303907,\n",
       " 0.0038996153345803473,\n",
       " 0.0045971188520328304,\n",
       " 0.0050940201689560084,\n",
       " 0.0030681695709471857,\n",
       " 0.0030672435475999171,\n",
       " 0.0034693241092136735,\n",
       " 0.0038989639456331812,\n",
       " 0.00459644335041,\n",
       " 0.0050936175298491922,\n",
       " 0.0030684137689433568,\n",
       " 0.003067386121346099,\n",
       " 0.0034683234986305272,\n",
       " 0.0038971088385757594,\n",
       " 0.0045945163023963153,\n",
       " 0.0050924683104082566]"
      ]
     },
     "execution_count": 115,
     "metadata": {},
     "output_type": "execute_result"
    }
   ],
   "source": [
    "cv_elastic"
   ]
  }
 ],
 "metadata": {
  "kernelspec": {
   "display_name": "Python 2",
   "language": "python",
   "name": "python2"
  },
  "language_info": {
   "codemirror_mode": {
    "name": "ipython",
    "version": 2
   },
   "file_extension": ".py",
   "mimetype": "text/x-python",
   "name": "python",
   "nbconvert_exporter": "python",
   "pygments_lexer": "ipython2",
   "version": "2.7.13"
  }
 },
 "nbformat": 4,
 "nbformat_minor": 2
}
