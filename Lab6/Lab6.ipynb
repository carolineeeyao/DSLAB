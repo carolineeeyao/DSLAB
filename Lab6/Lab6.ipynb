{
 "cells": [
  {
   "cell_type": "markdown",
   "metadata": {},
   "source": [
    "# Lab 6 \n",
    "\n",
    "Ali Tejani, amt3639\n",
    "\n",
    "Caroline Yao, chy253\n",
    "\n",
    "Allen Hwang, ah45755"
   ]
  },
  {
   "cell_type": "markdown",
   "metadata": {},
   "source": [
    "## Problem 1"
   ]
  },
  {
   "cell_type": "markdown",
   "metadata": {},
   "source": [
    "### Estimating beta with linear regression"
   ]
  },
  {
   "cell_type": "code",
   "execution_count": 83,
   "metadata": {
    "collapsed": true
   },
   "outputs": [],
   "source": [
    "import numpy as np\n",
    "from sklearn.linear_model import LinearRegression, Ridge"
   ]
  },
  {
   "cell_type": "code",
   "execution_count": 84,
   "metadata": {},
   "outputs": [],
   "source": [
    "n = 51\n",
    "p = 50"
   ]
  },
  {
   "cell_type": "code",
   "execution_count": 154,
   "metadata": {},
   "outputs": [],
   "source": [
    "def estimate_b(reg,n,p,seed=None):\n",
    "    np.random.seed(seed=seed)\n",
    "    b_hat = []\n",
    "    for _ in range(100):\n",
    "        X = np.random.normal(0,1,(n,p))\n",
    "        e = np.random.normal(0,.25,(n,1))\n",
    "        b = np.ones((p,1))\n",
    "        y = np.dot(X,b) + e\n",
    "        reg.fit(X,y)\n",
    "        reg.coef_\n",
    "        b_hat.append(reg.coef_)\n",
    "    b_hat = np.array(b_hat)\n",
    "    print b_hat.mean(axis=0).mean()\n",
    "    print b_hat.var(axis=0).mean()"
   ]
  },
  {
   "cell_type": "code",
   "execution_count": 165,
   "metadata": {},
   "outputs": [
    {
     "name": "stdout",
     "output_type": "stream",
     "text": [
      "1.00655839826\n",
      "0.227150750588\n"
     ]
    }
   ],
   "source": [
    "estimate_b(LinearRegression(fit_intercept=False),n,p,seed=1)"
   ]
  },
  {
   "cell_type": "code",
   "execution_count": 166,
   "metadata": {},
   "outputs": [
    {
     "name": "stdout",
     "output_type": "stream",
     "text": [
      "0.982576226953\n",
      "0.0641155927754\n",
      "0.950031875305\n",
      "0.0392228415033\n",
      "0.863646895296\n",
      "0.0623827708922\n",
      "0.642854600564\n",
      "0.091449034224\n",
      "0.268810522308\n",
      "0.0409478695197\n"
     ]
    }
   ],
   "source": [
    "alphas = [0.01,0.1,1,10,100]\n",
    "for a in alphas:\n",
    "    estimate_b(Ridge(alpha=a),n,p,seed=1)"
   ]
  },
  {
   "cell_type": "code",
   "execution_count": null,
   "metadata": {
    "collapsed": true
   },
   "outputs": [],
   "source": []
  }
 ],
 "metadata": {
  "kernelspec": {
   "display_name": "Python 2",
   "language": "python",
   "name": "python2"
  },
  "language_info": {
   "codemirror_mode": {
    "name": "ipython",
    "version": 2
   },
   "file_extension": ".py",
   "mimetype": "text/x-python",
   "name": "python",
   "nbconvert_exporter": "python",
   "pygments_lexer": "ipython2",
   "version": "2.7.13"
  }
 },
 "nbformat": 4,
 "nbformat_minor": 2
}
