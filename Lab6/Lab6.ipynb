{
 "cells": [
  {
   "cell_type": "markdown",
   "metadata": {},
   "source": [
    "# Lab 6 \n",
    "\n",
    "Ali Tejani, amt3639\n",
    "\n",
    "Caroline Yao, chy253\n",
    "\n",
    "Allen Hwang, ah45755"
   ]
  },
  {
   "cell_type": "markdown",
   "metadata": {},
   "source": [
    "## Problem 1"
   ]
  },
  {
   "cell_type": "markdown",
   "metadata": {},
   "source": [
    "### Estimating beta with linear regression"
   ]
  },
  {
   "cell_type": "code",
   "execution_count": 83,
   "metadata": {
    "collapsed": true
   },
   "outputs": [],
   "source": [
    "import numpy as np\n",
    "from sklearn.linear_model import LinearRegression, Ridge"
   ]
  },
  {
   "cell_type": "code",
   "execution_count": 84,
   "metadata": {
    "collapsed": true
   },
   "outputs": [],
   "source": [
    "n = 51\n",
    "p = 50"
   ]
  },
  {
   "cell_type": "code",
   "execution_count": 154,
   "metadata": {
    "collapsed": true
   },
   "outputs": [],
   "source": [
    "def estimate_b(reg,n,p,seed=None):\n",
    "    np.random.seed(seed=seed)\n",
    "    b_hat = []\n",
    "    for _ in range(100):\n",
    "        X = np.random.normal(0,1,(n,p))\n",
    "        e = np.random.normal(0,.25,(n,1))\n",
    "        b = np.ones((p,1))\n",
    "        y = np.dot(X,b) + e\n",
    "        reg.fit(X,y)\n",
    "        reg.coef_\n",
    "        b_hat.append(reg.coef_)\n",
    "    b_hat = np.array(b_hat)\n",
    "    print b_hat.mean(axis=0).mean()\n",
    "    print b_hat.var(axis=0).mean()"
   ]
  },
  {
   "cell_type": "code",
   "execution_count": 165,
   "metadata": {},
   "outputs": [
    {
     "name": "stdout",
     "output_type": "stream",
     "text": [
      "1.00655839826\n",
      "0.227150750588\n"
     ]
    }
   ],
   "source": [
    "estimate_b(LinearRegression(fit_intercept=False),n,p,seed=1)"
   ]
  },
  {
   "cell_type": "code",
   "execution_count": 166,
   "metadata": {},
   "outputs": [
    {
     "name": "stdout",
     "output_type": "stream",
     "text": [
      "0.982576226953\n",
      "0.0641155927754\n",
      "0.950031875305\n",
      "0.0392228415033\n",
      "0.863646895296\n",
      "0.0623827708922\n",
      "0.642854600564\n",
      "0.091449034224\n",
      "0.268810522308\n",
      "0.0409478695197\n"
     ]
    }
   ],
   "source": [
    "alphas = [0.01,0.1,1,10,100]\n",
    "for a in alphas:\n",
    "    estimate_b(Ridge(alpha=a),n,p,seed=1)"
   ]
  },
  {
   "cell_type": "markdown",
   "metadata": {
    "collapsed": true
   },
   "source": [
    "## Problem 2: Chapter 6, Problem 9"
   ]
  },
  {
   "cell_type": "markdown",
   "metadata": {},
   "source": [
    "### a.  Split the data set into a training set and a test set"
   ]
  },
  {
   "cell_type": "code",
   "execution_count": 219,
   "metadata": {},
   "outputs": [],
   "source": [
    "import pandas as pd\n",
    "from sklearn.model_selection import train_test_split\n",
    "from sklearn.metrics import accuracy_score"
   ]
  },
  {
   "cell_type": "code",
   "execution_count": 220,
   "metadata": {},
   "outputs": [],
   "source": [
    "college = pd.read_csv('College.csv',index_col=0)\n",
    "college['Private'] = college['Private'].replace('Yes',1).replace('No',0)\n",
    "collegeX = college[[i for i in college.axes[1] if i != 'Apps']]\n",
    "collegeY = college['Apps']\n",
    "college_trainX,college_testX,college_trainY,college_testY = train_test_split(collegeX,collegeY,test_size=0.5)"
   ]
  },
  {
   "cell_type": "markdown",
   "metadata": {},
   "source": [
    "### b. Fit a linear model using least squares on the training set, and report the test error obtained"
   ]
  },
  {
   "cell_type": "code",
   "execution_count": 241,
   "metadata": {},
   "outputs": [],
   "source": [
    "def reg_score(reg):\n",
    "    reg.fit(college_trainX,college_trainY)\n",
    "    print reg.score(college_testX,college_testY)"
   ]
  },
  {
   "cell_type": "code",
   "execution_count": 262,
   "metadata": {
    "scrolled": true
   },
   "outputs": [
    {
     "name": "stdout",
     "output_type": "stream",
     "text": [
      "0.886856495002\n"
     ]
    }
   ],
   "source": [
    "reg_score(LinearRegression())"
   ]
  },
  {
   "cell_type": "markdown",
   "metadata": {},
   "source": [
    "### c.  Fit a ridge regression model on the training set, with λ chosen by cross-validation. Report the test error obtained."
   ]
  },
  {
   "cell_type": "code",
   "execution_count": 278,
   "metadata": {},
   "outputs": [
    {
     "name": "stdout",
     "output_type": "stream",
     "text": [
      "0.886847105855\n"
     ]
    },
    {
     "data": {
      "text/plain": [
       "0.5"
      ]
     },
     "execution_count": 278,
     "metadata": {},
     "output_type": "execute_result"
    }
   ],
   "source": [
    "from sklearn.linear_model import RidgeCV,LassoCV\n",
    "ridge_reg = RidgeCV(alphas=[0.001,0.005,0.01,0.05,0.1,0.5])\n",
    "reg_score(ridge_reg)\n",
    "ridge_reg.alpha_"
   ]
  },
  {
   "cell_type": "markdown",
   "metadata": {},
   "source": [
    "### d.  Fit a lasso model on the training set, with λ chosen by crossvalidation. Report the test error obtained, along with the number of non-zero coefficient estimates."
   ]
  },
  {
   "cell_type": "code",
   "execution_count": 281,
   "metadata": {},
   "outputs": [
    {
     "name": "stdout",
     "output_type": "stream",
     "text": [
      "0.886492666461\n"
     ]
    },
    {
     "data": {
      "text/plain": [
       "array([ -3.03098103e+02,   1.72945804e+00,  -1.64257185e+00,\n",
       "         3.94289481e+01,  -9.48374397e+00,   1.35788762e-01,\n",
       "         1.29847836e-02,  -7.90511462e-02,   1.28427761e-01,\n",
       "         2.28751163e-02,   1.58910211e-01,  -9.61633493e+00,\n",
       "        -0.00000000e+00,   2.69949313e+01,   8.76543730e-01,\n",
       "         6.50859085e-02,   5.33066548e+00])"
      ]
     },
     "execution_count": 281,
     "metadata": {},
     "output_type": "execute_result"
    }
   ],
   "source": [
    "lasso_reg = LassoCV(alphas=[0.001,0.005,0.01,0.05,0.1,0.5,1,10])\n",
    "reg_score(lasso_reg)\n",
    "lasso_reg.coef_"
   ]
  },
  {
   "cell_type": "code",
   "execution_count": null,
   "metadata": {
    "collapsed": true
   },
   "outputs": [],
   "source": []
  }
 ],
 "metadata": {
  "kernelspec": {
   "display_name": "Python 2",
   "language": "python",
   "name": "python2"
  },
  "language_info": {
   "codemirror_mode": {
    "name": "ipython",
    "version": 2
   },
   "file_extension": ".py",
   "mimetype": "text/x-python",
   "name": "python",
   "nbconvert_exporter": "python",
   "pygments_lexer": "ipython2",
   "version": "2.7.13"
  }
 },
 "nbformat": 4,
 "nbformat_minor": 2
}
