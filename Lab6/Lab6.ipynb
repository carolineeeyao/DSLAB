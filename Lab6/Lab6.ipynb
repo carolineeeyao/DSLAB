{
 "cells": [
  {
   "cell_type": "markdown",
   "metadata": {},
   "source": [
    "# Lab 6 \n",
    "\n",
    "Ali Tejani, amt3639\n",
    "\n",
    "Caroline Yao, chy253\n",
    "\n",
    "Allen Hwang, ah45755"
   ]
  },
  {
   "cell_type": "markdown",
   "metadata": {},
   "source": [
    "## Problem 1"
   ]
  },
  {
   "cell_type": "markdown",
   "metadata": {},
   "source": [
    "### Estimating beta with linear regression"
   ]
  },
  {
   "cell_type": "code",
   "execution_count": 498,
   "metadata": {
    "collapsed": true
   },
   "outputs": [],
   "source": [
    "import numpy as np\n",
    "from sklearn.linear_model import LinearRegression, Ridge"
   ]
  },
  {
   "cell_type": "code",
   "execution_count": 499,
   "metadata": {
    "collapsed": true
   },
   "outputs": [],
   "source": [
    "n = 51\n",
    "p = 50"
   ]
  },
  {
   "cell_type": "code",
   "execution_count": 688,
   "metadata": {
    "collapsed": true
   },
   "outputs": [],
   "source": [
    "def estimate_b(reg,n,p,seed=None):\n",
    "    # seed rng so that we can compare different models\n",
    "    np.random.seed(seed=seed)\n",
    "    b_hat = []\n",
    "    for _ in range(50):\n",
    "        # create different distributions and fit the model\n",
    "        X = np.random.normal(0,1,(n,p))\n",
    "        e = np.random.normal(0,.25,(n,1))\n",
    "        b = np.ones((p,1))\n",
    "        y = np.dot(X,b) + e\n",
    "        reg.fit(X,y)\n",
    "        reg.coef_\n",
    "        b_hat.append(reg.coef_)\n",
    "    b_hat = np.array(b_hat)\n",
    "    print type(reg).__name__,':'\n",
    "    if isinstance(reg,Ridge):\n",
    "        print 'alpha',reg.get_params()['alpha']\n",
    "    print 'Average of B values: ',b_hat.mean(axis=0).mean()\n",
    "    print 'Variance of B values: ',b_hat.var(axis=0).mean()"
   ]
  },
  {
   "cell_type": "code",
   "execution_count": 689,
   "metadata": {},
   "outputs": [
    {
     "name": "stdout",
     "output_type": "stream",
     "text": [
      "LinearRegression :\n",
      "Average of B values:  1.00014392364\n",
      "Variance of B values:  0.000118771478505\n"
     ]
    }
   ],
   "source": [
    "estimate_b(LinearRegression(fit_intercept=False),n,p,seed=3)"
   ]
  },
  {
   "cell_type": "code",
   "execution_count": 690,
   "metadata": {},
   "outputs": [
    {
     "name": "stdout",
     "output_type": "stream",
     "text": [
      "Ridge :\n",
      "alpha 0.01\n",
      "Average of B values:  1.00012448614\n",
      "Variance of B values:  0.00011900454366\n",
      "Ridge :\n",
      "alpha 0.1\n",
      "Average of B values:  0.999954072731\n",
      "Variance of B values:  0.000118934888148\n",
      "Ridge :\n",
      "alpha 1\n",
      "Average of B values:  0.998253416358\n",
      "Variance of B values:  0.000118526115805\n",
      "Ridge :\n",
      "alpha 10\n",
      "Average of B values:  0.981587024557\n",
      "Variance of B values:  0.000140953905645\n",
      "Ridge :\n",
      "alpha 100\n",
      "Average of B values:  0.842796644902\n",
      "Variance of B values:  0.00159701299159\n",
      "Ridge :\n",
      "alpha 1000\n",
      "Average of B values:  0.35851631145\n",
      "Variance of B values:  0.00437790390985\n"
     ]
    }
   ],
   "source": [
    "alphas = [0.01,0.1,1,10,100,1000]\n",
    "for a in alphas:\n",
    "    estimate_b(Ridge(alpha=a),n,p,seed=3)"
   ]
  },
  {
   "cell_type": "markdown",
   "metadata": {},
   "source": [
    "Linear regression gives us an acurate value when beta is simple. Ridge regression gives us increasingly worse values for beta as we increase alpha. However, ridge regression also gives a lower variance in certain ranges for alpha, which means the values are more closer together and more simple."
   ]
  },
  {
   "cell_type": "markdown",
   "metadata": {
    "collapsed": true
   },
   "source": [
    "## Problem 2: Chapter 6, Problem 9"
   ]
  },
  {
   "cell_type": "markdown",
   "metadata": {},
   "source": [
    "### a.  Split the data set into a training set and a test set"
   ]
  },
  {
   "cell_type": "code",
   "execution_count": 691,
   "metadata": {
    "collapsed": true
   },
   "outputs": [],
   "source": [
    "import pandas as pd\n",
    "from sklearn.model_selection import train_test_split\n",
    "from sklearn.metrics import accuracy_score, mean_squared_error\n",
    "np.random.seed()"
   ]
  },
  {
   "cell_type": "code",
   "execution_count": 700,
   "metadata": {
    "collapsed": true
   },
   "outputs": [],
   "source": [
    "# read data, clean up, and split to train and test data, 80/20\n",
    "college = pd.read_csv('College.csv',index_col=0)\n",
    "college['Private'] = college['Private'].replace('Yes',1).replace('No',0)\n",
    "collegeX = college[[i for i in college.axes[1] if i != 'Apps']]\n",
    "collegeY = college['Apps']\n",
    "college_trainX,college_testX,college_trainY,college_testY = train_test_split(collegeX,collegeY)\n",
    "college_trainX = scale(college_trainX)\n",
    "college_testX = scale(college_testX)"
   ]
  },
  {
   "cell_type": "markdown",
   "metadata": {},
   "source": [
    "### b. Fit a linear model using least squares on the training set, and report the test error obtained"
   ]
  },
  {
   "cell_type": "code",
   "execution_count": 701,
   "metadata": {
    "collapsed": true
   },
   "outputs": [],
   "source": [
    "def reg_score(reg):\n",
    "    reg.fit(college_trainX,college_trainY)\n",
    "    print 'R**2:',reg.score(college_testX,college_testY)\n",
    "    print 'MSE:',mean_squared_error(reg.predict(college_testX),college_testY)"
   ]
  },
  {
   "cell_type": "code",
   "execution_count": 702,
   "metadata": {
    "scrolled": true
   },
   "outputs": [
    {
     "name": "stdout",
     "output_type": "stream",
     "text": [
      "R**2: 0.844531192312\n",
      "MSE: 3669090.75362\n"
     ]
    }
   ],
   "source": [
    "reg_score(LinearRegression())"
   ]
  },
  {
   "cell_type": "markdown",
   "metadata": {},
   "source": [
    "### c.  Fit a ridge regression model on the training set, with λ chosen by cross-validation. Report the test error obtained."
   ]
  },
  {
   "cell_type": "code",
   "execution_count": 703,
   "metadata": {},
   "outputs": [
    {
     "name": "stdout",
     "output_type": "stream",
     "text": [
      "R**2: 0.842449377931\n",
      "MSE: 3718221.9331\n",
      "alpha chosen: 1.0\n"
     ]
    }
   ],
   "source": [
    "from sklearn.linear_model import RidgeCV,LassoCV\n",
    "ridge_reg = RidgeCV(alphas=[0.001,0.005,0.01,0.05,0.1,0.5,1,10,100])\n",
    "reg_score(ridge_reg)\n",
    "print 'alpha chosen:',ridge_reg.alpha_"
   ]
  },
  {
   "cell_type": "markdown",
   "metadata": {},
   "source": [
    "### d.  Fit a lasso model on the training set, with λ chosen by crossvalidation. Report the test error obtained, along with the number of non-zero coefficient estimates."
   ]
  },
  {
   "cell_type": "code",
   "execution_count": 704,
   "metadata": {},
   "outputs": [
    {
     "name": "stdout",
     "output_type": "stream",
     "text": [
      "R**2: 0.837824628669\n",
      "MSE: 3827366.81566\n",
      "alpha chosen: 10.0\n",
      "number of zeros: 1\n"
     ]
    }
   ],
   "source": [
    "lasso_reg = LassoCV(alphas=[0.0001,0.001,0.005,0.01,0.05,0.1,0.5,1,10,100])\n",
    "reg_score(lasso_reg)\n",
    "print 'alpha chosen:',lasso_reg.alpha_\n",
    "print 'number of zeros:',np.count_nonzero(np.isclose(lasso_reg.coef_,0))"
   ]
  },
  {
   "cell_type": "markdown",
   "metadata": {
    "collapsed": true
   },
   "source": [
    "### e. Fit a PCR model on the training set, with M chosen by cross-validation. Report the test error obtained, along with the value of M selected by cross-validation"
   ]
  },
  {
   "cell_type": "code",
   "execution_count": 717,
   "metadata": {
    "collapsed": true
   },
   "outputs": [],
   "source": [
    "from sklearn.decomposition import PCA\n",
    "from sklearn.model_selection import GridSearchCV\n",
    "from sklearn.pipeline import Pipeline\n",
    "pca = PCA()\n",
    "linreg = LinearRegression()\n",
    "# pipe pca to linear regression\n",
    "pipe = Pipeline(steps=[('pca',pca),('linear',linreg)])"
   ]
  },
  {
   "cell_type": "code",
   "execution_count": 719,
   "metadata": {},
   "outputs": [
    {
     "name": "stdout",
     "output_type": "stream",
     "text": [
      "R**2: 0.844531192312\n",
      "MSE: 3669090.75362\n",
      "number of components used: 17\n"
     ]
    }
   ],
   "source": [
    "# run cv on our model, using from 1 to 17 features\n",
    "gscv = GridSearchCV(pipe, dict(pca__n_components=np.arange(1,college_trainX.shape[1]+1)),cv=10)\n",
    "reg_score(gscv)\n",
    "print 'number of components used:',gscv.best_params_['pca__n_components']"
   ]
  },
  {
   "cell_type": "markdown",
   "metadata": {},
   "source": [
    "### f. Fit a PLS model on the training set, with M chosen by crossvalidation. Report the test error obtained, along with the value of M selected by cross-validation."
   ]
  },
  {
   "cell_type": "code",
   "execution_count": 720,
   "metadata": {
    "collapsed": true
   },
   "outputs": [],
   "source": [
    "from sklearn.cross_decomposition import PLSRegression"
   ]
  },
  {
   "cell_type": "code",
   "execution_count": 721,
   "metadata": {},
   "outputs": [
    {
     "name": "stdout",
     "output_type": "stream",
     "text": [
      "R**2: 0.84408571974\n",
      "MSE: 3679603.98337\n",
      "number of components used: 17\n"
     ]
    }
   ],
   "source": [
    "from sklearn.preprocessing import scale \n",
    "pls = PLSRegression()\n",
    "# run cv on our model, using from 1 to 17 features\n",
    "gscv = GridSearchCV(pls, dict(n_components=np.arange(1,college_trainX.shape[1]+1)),cv=10)\n",
    "reg_score(gscv)\n",
    "print 'number of components used:',gscv.cv_results_['rank_test_score'][0]"
   ]
  },
  {
   "cell_type": "markdown",
   "metadata": {},
   "source": [
    "### g. Comment on the results obtained. How accurately can we predict the number of college applications received? Is there much difference among the test errors resulting from these five approaches?"
   ]
  },
  {
   "cell_type": "markdown",
   "metadata": {},
   "source": [
    "The best scores are received for linear regression and for PCR/PLS with all components. This means that the output fits closely with the features. Linear regression is the best model for this data, since it is the most accurate without needing the extra work of performing pca"
   ]
  },
  {
   "cell_type": "markdown",
   "metadata": {
    "collapsed": true
   },
   "source": [
    "# Problem 3"
   ]
  },
  {
   "cell_type": "code",
   "execution_count": 513,
   "metadata": {
    "collapsed": true
   },
   "outputs": [],
   "source": [
    "import numpy as np\n",
    "import pandas as pd\n",
    "import matplotlib.pyplot as plt\n",
    "import time\n",
    "import itertools\n",
    "from sklearn.model_selection import train_test_split\n",
    "from sklearn.linear_model import LogisticRegression, LinearRegression\n",
    "from sklearn.metrics import confusion_matrix, mean_squared_error"
   ]
  },
  {
   "cell_type": "code",
   "execution_count": 514,
   "metadata": {},
   "outputs": [
    {
     "data": {
      "text/html": [
       "<div>\n",
       "<style>\n",
       "    .dataframe thead tr:only-child th {\n",
       "        text-align: right;\n",
       "    }\n",
       "\n",
       "    .dataframe thead th {\n",
       "        text-align: left;\n",
       "    }\n",
       "\n",
       "    .dataframe tbody tr th {\n",
       "        vertical-align: top;\n",
       "    }\n",
       "</style>\n",
       "<table border=\"1\" class=\"dataframe\">\n",
       "  <thead>\n",
       "    <tr style=\"text-align: right;\">\n",
       "      <th></th>\n",
       "      <th>Private</th>\n",
       "      <th>Accept</th>\n",
       "      <th>Enroll</th>\n",
       "      <th>Top10perc</th>\n",
       "      <th>Top25perc</th>\n",
       "      <th>F.Undergrad</th>\n",
       "      <th>P.Undergrad</th>\n",
       "      <th>Outstate</th>\n",
       "      <th>Room.Board</th>\n",
       "      <th>Books</th>\n",
       "      <th>Personal</th>\n",
       "      <th>PhD</th>\n",
       "      <th>Terminal</th>\n",
       "      <th>S.F.Ratio</th>\n",
       "      <th>perc.alumni</th>\n",
       "      <th>Expend</th>\n",
       "      <th>Grad.Rate</th>\n",
       "    </tr>\n",
       "  </thead>\n",
       "  <tbody>\n",
       "    <tr>\n",
       "      <th>195</th>\n",
       "      <td>0</td>\n",
       "      <td>1101</td>\n",
       "      <td>438</td>\n",
       "      <td>14</td>\n",
       "      <td>50</td>\n",
       "      <td>3065</td>\n",
       "      <td>363</td>\n",
       "      <td>6297</td>\n",
       "      <td>4600</td>\n",
       "      <td>600</td>\n",
       "      <td>1323</td>\n",
       "      <td>75</td>\n",
       "      <td>78</td>\n",
       "      <td>18.1</td>\n",
       "      <td>14</td>\n",
       "      <td>8355</td>\n",
       "      <td>68</td>\n",
       "    </tr>\n",
       "    <tr>\n",
       "      <th>320</th>\n",
       "      <td>0</td>\n",
       "      <td>2215</td>\n",
       "      <td>651</td>\n",
       "      <td>17</td>\n",
       "      <td>41</td>\n",
       "      <td>3390</td>\n",
       "      <td>325</td>\n",
       "      <td>7352</td>\n",
       "      <td>3620</td>\n",
       "      <td>225</td>\n",
       "      <td>500</td>\n",
       "      <td>47</td>\n",
       "      <td>55</td>\n",
       "      <td>16.1</td>\n",
       "      <td>14</td>\n",
       "      <td>6374</td>\n",
       "      <td>63</td>\n",
       "    </tr>\n",
       "    <tr>\n",
       "      <th>757</th>\n",
       "      <td>1</td>\n",
       "      <td>926</td>\n",
       "      <td>372</td>\n",
       "      <td>43</td>\n",
       "      <td>70</td>\n",
       "      <td>1270</td>\n",
       "      <td>160</td>\n",
       "      <td>12660</td>\n",
       "      <td>4500</td>\n",
       "      <td>678</td>\n",
       "      <td>2424</td>\n",
       "      <td>80</td>\n",
       "      <td>80</td>\n",
       "      <td>16.9</td>\n",
       "      <td>20</td>\n",
       "      <td>8328</td>\n",
       "      <td>80</td>\n",
       "    </tr>\n",
       "    <tr>\n",
       "      <th>34</th>\n",
       "      <td>1</td>\n",
       "      <td>1366</td>\n",
       "      <td>662</td>\n",
       "      <td>30</td>\n",
       "      <td>61</td>\n",
       "      <td>2718</td>\n",
       "      <td>1460</td>\n",
       "      <td>10995</td>\n",
       "      <td>4410</td>\n",
       "      <td>1000</td>\n",
       "      <td>1000</td>\n",
       "      <td>68</td>\n",
       "      <td>74</td>\n",
       "      <td>17.6</td>\n",
       "      <td>20</td>\n",
       "      <td>8086</td>\n",
       "      <td>85</td>\n",
       "    </tr>\n",
       "    <tr>\n",
       "      <th>487</th>\n",
       "      <td>1</td>\n",
       "      <td>718</td>\n",
       "      <td>276</td>\n",
       "      <td>12</td>\n",
       "      <td>48</td>\n",
       "      <td>1345</td>\n",
       "      <td>390</td>\n",
       "      <td>10450</td>\n",
       "      <td>4020</td>\n",
       "      <td>500</td>\n",
       "      <td>1500</td>\n",
       "      <td>56</td>\n",
       "      <td>56</td>\n",
       "      <td>14.1</td>\n",
       "      <td>16</td>\n",
       "      <td>7444</td>\n",
       "      <td>70</td>\n",
       "    </tr>\n",
       "  </tbody>\n",
       "</table>\n",
       "</div>"
      ],
      "text/plain": [
       "     Private  Accept  Enroll  Top10perc  Top25perc  F.Undergrad  P.Undergrad  \\\n",
       "195        0    1101     438         14         50         3065          363   \n",
       "320        0    2215     651         17         41         3390          325   \n",
       "757        1     926     372         43         70         1270          160   \n",
       "34         1    1366     662         30         61         2718         1460   \n",
       "487        1     718     276         12         48         1345          390   \n",
       "\n",
       "     Outstate  Room.Board  Books  Personal  PhD  Terminal  S.F.Ratio  \\\n",
       "195      6297        4600    600      1323   75        78       18.1   \n",
       "320      7352        3620    225       500   47        55       16.1   \n",
       "757     12660        4500    678      2424   80        80       16.9   \n",
       "34      10995        4410   1000      1000   68        74       17.6   \n",
       "487     10450        4020    500      1500   56        56       14.1   \n",
       "\n",
       "     perc.alumni  Expend  Grad.Rate  \n",
       "195           14    8355         68  \n",
       "320           14    6374         63  \n",
       "757           20    8328         80  \n",
       "34            20    8086         85  \n",
       "487           16    7444         70  "
      ]
     },
     "execution_count": 514,
     "metadata": {},
     "output_type": "execute_result"
    }
   ],
   "source": [
    "collegeData = pd.read_csv(\"College.csv\")\n",
    "np.random.seed(1)\n",
    "X = collegeData.drop(\"Apps\", axis=1)\n",
    "y = collegeData[\"Apps\"]\n",
    "X = X.loc[:, \"Private\":\"Grad.Rate\"]\n",
    "#X = pd.get_dummies(X, columns = [\"Private\"])\n",
    "X[\"Private\"] = X.Private.eq(\"Yes\").mul(1)\n",
    "X_train, X_test, y_train, y_test = train_test_split(X, y)\n",
    "X_train.head()"
   ]
  },
  {
   "cell_type": "markdown",
   "metadata": {},
   "source": [
    "## Using Least Squares Regression"
   ]
  },
  {
   "cell_type": "code",
   "execution_count": 515,
   "metadata": {},
   "outputs": [
    {
     "data": {
      "text/plain": [
       "636075.29349025991"
      ]
     },
     "execution_count": 515,
     "metadata": {},
     "output_type": "execute_result"
    }
   ],
   "source": [
    "lsr = LinearRegression()\n",
    "lsr.fit(X_train, y_train)\n",
    "mean_squared_error(y_test, lsr.predict(X_test))"
   ]
  },
  {
   "cell_type": "markdown",
   "metadata": {},
   "source": [
    "## Using Ridge Regression Model with CV"
   ]
  },
  {
   "cell_type": "code",
   "execution_count": 516,
   "metadata": {
    "collapsed": true
   },
   "outputs": [],
   "source": [
    "from sklearn.linear_model import RidgeCV"
   ]
  },
  {
   "cell_type": "code",
   "execution_count": 517,
   "metadata": {},
   "outputs": [
    {
     "data": {
      "text/plain": [
       "643442.36969612597"
      ]
     },
     "execution_count": 517,
     "metadata": {},
     "output_type": "execute_result"
    }
   ],
   "source": [
    "ridge = RidgeCV(alphas = (0.01, 0.1, 0.25,0.5,0.75,1,5,10), cv = 5)\n",
    "ridge.fit(X_train,y_train)\n",
    "mean_squared_error(y_test,ridge.predict(X_test))"
   ]
  },
  {
   "cell_type": "markdown",
   "metadata": {},
   "source": [
    "## Using Lasso Regression with CV"
   ]
  },
  {
   "cell_type": "code",
   "execution_count": 518,
   "metadata": {
    "collapsed": true
   },
   "outputs": [],
   "source": [
    "from sklearn.linear_model import LassoCV"
   ]
  },
  {
   "cell_type": "code",
   "execution_count": 519,
   "metadata": {},
   "outputs": [
    {
     "data": {
      "text/plain": [
       "LassoCV(alphas=(0.01, 0.1, 0.25, 0.5, 0.75, 1, 5, 10), copy_X=True, cv=5,\n",
       "    eps=0.001, fit_intercept=True, max_iter=1000, n_alphas=100, n_jobs=1,\n",
       "    normalize=False, positive=False, precompute='auto', random_state=None,\n",
       "    selection='cyclic', tol=0.0001, verbose=False)"
      ]
     },
     "execution_count": 519,
     "metadata": {},
     "output_type": "execute_result"
    }
   ],
   "source": [
    "lasso = LassoCV(alphas = (0.01, 0.1, 0.25, 0.5, 0.75, 1, 5, 10), cv=5)\n",
    "lasso.fit(X_train, y_train)"
   ]
  },
  {
   "cell_type": "code",
   "execution_count": 520,
   "metadata": {},
   "outputs": [
    {
     "name": "stdout",
     "output_type": "stream",
     "text": [
      "652792.533587\n"
     ]
    }
   ],
   "source": [
    "test_error = mean_squared_error(y_test, lasso.predict(X_test))\n",
    "print(test_error)"
   ]
  },
  {
   "cell_type": "code",
   "execution_count": 521,
   "metadata": {},
   "outputs": [
    {
     "name": "stdout",
     "output_type": "stream",
     "text": [
      "[ -1.93585337e+02   1.56831780e+00  -7.47515170e-01   5.25019579e+01\n",
      "  -1.63805088e+01   6.41326786e-02   2.76669660e-02  -1.07055388e-01\n",
      "   1.77195778e-01  -7.35222151e-02   1.26709450e-02  -7.90877349e+00\n",
      "  -2.25787488e+00   1.55268262e+01  -0.00000000e+00   8.21933553e-02\n",
      "   8.48819169e+00]\n",
      "There are 16 non-zero coefficients\n"
     ]
    }
   ],
   "source": [
    "count = 0\n",
    "for num in range(len(lasso.coef_)):\n",
    "    if lasso.coef_[num]== 0.0:\n",
    "        count += 1\n",
    "print(lasso.coef_)\n",
    "print\"There are\",len(lasso.coef_)-count, \"non-zero coefficients\""
   ]
  },
  {
   "cell_type": "markdown",
   "metadata": {},
   "source": [
    "## Using PCR"
   ]
  },
  {
   "cell_type": "code",
   "execution_count": 522,
   "metadata": {
    "collapsed": true
   },
   "outputs": [],
   "source": [
    "from sklearn.decomposition import PCA\n",
    "from sklearn.preprocessing import scale\n",
    "from sklearn.model_selection import KFold, cross_val_score"
   ]
  },
  {
   "cell_type": "code",
   "execution_count": 523,
   "metadata": {},
   "outputs": [
    {
     "name": "stdout",
     "output_type": "stream",
     "text": [
      "(17L, 17L)\n"
     ]
    },
    {
     "data": {
      "text/html": [
       "<div>\n",
       "<style>\n",
       "    .dataframe thead tr:only-child th {\n",
       "        text-align: right;\n",
       "    }\n",
       "\n",
       "    .dataframe thead th {\n",
       "        text-align: left;\n",
       "    }\n",
       "\n",
       "    .dataframe tbody tr th {\n",
       "        vertical-align: top;\n",
       "    }\n",
       "</style>\n",
       "<table border=\"1\" class=\"dataframe\">\n",
       "  <thead>\n",
       "    <tr style=\"text-align: right;\">\n",
       "      <th></th>\n",
       "      <th>0</th>\n",
       "      <th>1</th>\n",
       "      <th>2</th>\n",
       "      <th>3</th>\n",
       "      <th>4</th>\n",
       "      <th>5</th>\n",
       "    </tr>\n",
       "  </thead>\n",
       "  <tbody>\n",
       "    <tr>\n",
       "      <th>0</th>\n",
       "      <td>0.202812</td>\n",
       "      <td>-0.319559</td>\n",
       "      <td>0.149372</td>\n",
       "      <td>0.207191</td>\n",
       "      <td>-0.031502</td>\n",
       "      <td>-0.036004</td>\n",
       "    </tr>\n",
       "    <tr>\n",
       "      <th>1</th>\n",
       "      <td>0.013150</td>\n",
       "      <td>0.419033</td>\n",
       "      <td>-0.027107</td>\n",
       "      <td>0.362324</td>\n",
       "      <td>-0.112086</td>\n",
       "      <td>0.002294</td>\n",
       "    </tr>\n",
       "    <tr>\n",
       "      <th>2</th>\n",
       "      <td>-0.028705</td>\n",
       "      <td>0.442952</td>\n",
       "      <td>-0.028317</td>\n",
       "      <td>0.250415</td>\n",
       "      <td>-0.175489</td>\n",
       "      <td>-0.053479</td>\n",
       "    </tr>\n",
       "    <tr>\n",
       "      <th>3</th>\n",
       "      <td>0.344736</td>\n",
       "      <td>0.130412</td>\n",
       "      <td>0.005602</td>\n",
       "      <td>-0.221019</td>\n",
       "      <td>-0.331967</td>\n",
       "      <td>-0.059989</td>\n",
       "    </tr>\n",
       "    <tr>\n",
       "      <th>4</th>\n",
       "      <td>0.318675</td>\n",
       "      <td>0.161423</td>\n",
       "      <td>-0.057655</td>\n",
       "      <td>-0.252482</td>\n",
       "      <td>-0.344360</td>\n",
       "      <td>0.020636</td>\n",
       "    </tr>\n",
       "  </tbody>\n",
       "</table>\n",
       "</div>"
      ],
      "text/plain": [
       "          0         1         2         3         4         5\n",
       "0  0.202812 -0.319559  0.149372  0.207191 -0.031502 -0.036004\n",
       "1  0.013150  0.419033 -0.027107  0.362324 -0.112086  0.002294\n",
       "2 -0.028705  0.442952 -0.028317  0.250415 -0.175489 -0.053479\n",
       "3  0.344736  0.130412  0.005602 -0.221019 -0.331967 -0.059989\n",
       "4  0.318675  0.161423 -0.057655 -0.252482 -0.344360  0.020636"
      ]
     },
     "execution_count": 523,
     "metadata": {},
     "output_type": "execute_result"
    }
   ],
   "source": [
    "pca = PCA()\n",
    "X_reduced = pca.fit_transform(scale(X))\n",
    "print(pca.components_.shape)\n",
    "pd.DataFrame(pca.components_.T).loc[:4,:5]"
   ]
  },
  {
   "cell_type": "code",
   "execution_count": 524,
   "metadata": {},
   "outputs": [
    {
     "name": "stdout",
     "output_type": "stream",
     "text": [
      "(777L, 17L)\n"
     ]
    },
    {
     "data": {
      "text/html": [
       "<div>\n",
       "<style>\n",
       "    .dataframe thead tr:only-child th {\n",
       "        text-align: right;\n",
       "    }\n",
       "\n",
       "    .dataframe thead th {\n",
       "        text-align: left;\n",
       "    }\n",
       "\n",
       "    .dataframe tbody tr th {\n",
       "        vertical-align: top;\n",
       "    }\n",
       "</style>\n",
       "<table border=\"1\" class=\"dataframe\">\n",
       "  <thead>\n",
       "    <tr style=\"text-align: right;\">\n",
       "      <th></th>\n",
       "      <th>0</th>\n",
       "      <th>1</th>\n",
       "      <th>2</th>\n",
       "      <th>3</th>\n",
       "      <th>4</th>\n",
       "      <th>5</th>\n",
       "    </tr>\n",
       "  </thead>\n",
       "  <tbody>\n",
       "    <tr>\n",
       "      <th>0</th>\n",
       "      <td>-1.593338</td>\n",
       "      <td>-0.230948</td>\n",
       "      <td>-0.101716</td>\n",
       "      <td>-0.849744</td>\n",
       "      <td>-0.275266</td>\n",
       "      <td>-0.369145</td>\n",
       "    </tr>\n",
       "    <tr>\n",
       "      <th>1</th>\n",
       "      <td>-1.469387</td>\n",
       "      <td>-2.027180</td>\n",
       "      <td>2.897925</td>\n",
       "      <td>3.060121</td>\n",
       "      <td>-0.555634</td>\n",
       "      <td>-0.084863</td>\n",
       "    </tr>\n",
       "    <tr>\n",
       "      <th>2</th>\n",
       "      <td>-0.597659</td>\n",
       "      <td>-1.813161</td>\n",
       "      <td>-0.293113</td>\n",
       "      <td>0.404538</td>\n",
       "      <td>-0.592998</td>\n",
       "      <td>-0.964864</td>\n",
       "    </tr>\n",
       "    <tr>\n",
       "      <th>3</th>\n",
       "      <td>3.836386</td>\n",
       "      <td>-0.543832</td>\n",
       "      <td>-0.194869</td>\n",
       "      <td>-1.293558</td>\n",
       "      <td>0.448208</td>\n",
       "      <td>-1.048643</td>\n",
       "    </tr>\n",
       "    <tr>\n",
       "      <th>4</th>\n",
       "      <td>-1.759793</td>\n",
       "      <td>-1.062573</td>\n",
       "      <td>2.237288</td>\n",
       "      <td>-1.141496</td>\n",
       "      <td>1.300800</td>\n",
       "      <td>0.043282</td>\n",
       "    </tr>\n",
       "  </tbody>\n",
       "</table>\n",
       "</div>"
      ],
      "text/plain": [
       "          0         1         2         3         4         5\n",
       "0 -1.593338 -0.230948 -0.101716 -0.849744 -0.275266 -0.369145\n",
       "1 -1.469387 -2.027180  2.897925  3.060121 -0.555634 -0.084863\n",
       "2 -0.597659 -1.813161 -0.293113  0.404538 -0.592998 -0.964864\n",
       "3  3.836386 -0.543832 -0.194869 -1.293558  0.448208 -1.048643\n",
       "4 -1.759793 -1.062573  2.237288 -1.141496  1.300800  0.043282"
      ]
     },
     "execution_count": 524,
     "metadata": {},
     "output_type": "execute_result"
    }
   ],
   "source": [
    "print(X_reduced.shape)\n",
    "pd.DataFrame(X_reduced).loc[:4,:5]"
   ]
  },
  {
   "cell_type": "code",
   "execution_count": 525,
   "metadata": {},
   "outputs": [
    {
     "data": {
      "text/plain": [
       "array([ 31.67,  57.3 ,  64.3 ,  69.91,  75.39,  80.38,  83.99,  87.4 ,\n",
       "        90.5 ,  92.9 ,  95.  ,  96.8 ,  97.89,  98.74,  99.35,  99.83,\n",
       "        99.99])"
      ]
     },
     "execution_count": 525,
     "metadata": {},
     "output_type": "execute_result"
    }
   ],
   "source": [
    "# Variance explained by the principal components\n",
    "np.cumsum(np.round(pca.explained_variance_ratio_, decimals=4)*100)"
   ]
  },
  {
   "cell_type": "code",
   "execution_count": 526,
   "metadata": {},
   "outputs": [
    {
     "data": {
      "image/png": "[encoded data removed]",
      "text/plain": [
       "<matplotlib.figure.Figure at 0xdfa22e8>"
      ]
     },
     "metadata": {},
     "output_type": "display_data"
    },
    {
     "name": "stdout",
     "output_type": "stream",
     "text": [
      "1266061.03687\n"
     ]
    }
   ],
   "source": [
    "# 10-fold CV, with shuffle\n",
    "n = len(X_reduced)\n",
    "kf_10 = KFold(n_splits=10, shuffle=True, random_state=1)\n",
    "\n",
    "regr = LinearRegression()\n",
    "mse = []\n",
    "\n",
    "# Calculate MSE with only the intercept (no principal components in regression)\n",
    "score = -1*cross_val_score(regr, np.ones((n,1)), y.ravel(), cv=kf_10, scoring='neg_mean_squared_error').mean()    \n",
    "mse.append(score)\n",
    "\n",
    "# Calculate MSE using CV for the 19 principle components, adding one component at the time.\n",
    "for i in np.arange(1, 18):\n",
    "    score = -1*cross_val_score(regr, X_reduced[:,:i], y.ravel(), cv=kf_10, scoring='neg_mean_squared_error').mean()\n",
    "    mse.append(score)\n",
    "    \n",
    "plt.plot(mse, '-v')\n",
    "plt.xlabel('Number of principal components in regression')\n",
    "plt.ylabel('MSE')\n",
    "plt.title('Number of Applications')\n",
    "plt.xlim(xmin=-1)\n",
    "plt.show()\n",
    "print(mse[-1])"
   ]
  },
  {
   "cell_type": "markdown",
   "metadata": {},
   "source": [
    "The above plot indicates that the lowest training mean squared error is reached on all 17 components."
   ]
  },
  {
   "cell_type": "code",
   "execution_count": 527,
   "metadata": {},
   "outputs": [
    {
     "data": {
      "text/plain": [
       "array([  253.66931726,  1558.60007019,    11.47522826,  1189.07044066,\n",
       "        -567.17300466,   -68.65997854,  -228.34365107,  -469.38040447,\n",
       "        -446.56162148,   251.99849047,    41.23071509,   144.04806643,\n",
       "          35.21546132,  -176.21947313,  2458.71599255,  2018.14055612,\n",
       "        1469.96288483])"
      ]
     },
     "execution_count": 527,
     "metadata": {},
     "output_type": "execute_result"
    }
   ],
   "source": [
    "regr_test = LinearRegression()\n",
    "regr_test.fit(X_reduced, y)\n",
    "regr_test.coef_"
   ]
  },
  {
   "cell_type": "markdown",
   "metadata": {},
   "source": [
    "## Fitting PCA with training data"
   ]
  },
  {
   "cell_type": "code",
   "execution_count": 528,
   "metadata": {},
   "outputs": [
    {
     "data": {
      "image/png": "[encoded data removed]",
      "text/plain": [
       "<matplotlib.figure.Figure at 0xe01b898>"
      ]
     },
     "metadata": {},
     "output_type": "display_data"
    }
   ],
   "source": [
    "pca2 = PCA()\n",
    "X_reduced_train = pca2.fit_transform(scale(X_train))\n",
    "n = len(X_reduced_train)\n",
    "\n",
    "# 10-fold CV, with shuffle\n",
    "kf_10 = KFold(n_splits = 10, shuffle=True)\n",
    "\n",
    "mse = []\n",
    "\n",
    "# Calculate MSE with only the intercept (no principal components in regression)\n",
    "score = -1*cross_val_score(regr, np.ones((n,1)), y_train.ravel(), cv=kf_10, scoring='neg_mean_squared_error').mean()    \n",
    "mse.append(score)\n",
    "\n",
    "# Calculate MSE using CV for the 19 principle components, adding one component at the time.\n",
    "for i in np.arange(1, 18):\n",
    "    score = -1*cross_val_score(regr, X_reduced_train[:,:i], y_train.ravel(), cv=kf_10, scoring='neg_mean_squared_error').mean()\n",
    "    mse.append(score)\n",
    "\n",
    "plt.plot(np.array(mse), '-v')\n",
    "plt.xlabel('Number of principal components in regression')\n",
    "plt.ylabel('MSE')\n",
    "plt.title('Number of Applications')\n",
    "plt.xlim(xmin=-1)\n",
    "plt.show()"
   ]
  },
  {
   "cell_type": "markdown",
   "metadata": {},
   "source": [
    "The above plot indicates that the lowest training MSE is found on regressing on all 17 components.  But this would be mean that there is no dimensionality reduction.  The calculation used is for both M = 17 and M = 15, because when M = 15, there will be some reduction taking place"
   ]
  },
  {
   "cell_type": "code",
   "execution_count": 529,
   "metadata": {},
   "outputs": [
    {
     "name": "stdout",
     "output_type": "stream",
     "text": [
      "('MSE when M = 15: ', 791250.060774385)\n",
      "('MSE when M = 17: ', 756272.0853409929)\n"
     ]
    }
   ],
   "source": [
    "X_reduced_test = pca2.transform(scale(X_test))[:,:16]\n",
    "\n",
    "# Train regression model on training data \n",
    "regr = LinearRegression()\n",
    "regr.fit(X_reduced_train[:,:16], y_train)\n",
    "\n",
    "# Prediction with test data\n",
    "pred = regr.predict(X_reduced_test)\n",
    "print(\"MSE when M = 15: \", mean_squared_error(y_test, pred))\n",
    "\n",
    "X_reduced_test = pca2.transform(scale(X_test))[:,:]\n",
    "\n",
    "# Train regression model on training data \n",
    "regr = LinearRegression()\n",
    "regr.fit(X_reduced_train[:,:], y_train)\n",
    "\n",
    "# Prediction with test data\n",
    "pred = regr.predict(X_reduced_test)\n",
    "print(\"MSE when M = 17: \", mean_squared_error(y_test, pred))"
   ]
  },
  {
   "cell_type": "markdown",
   "metadata": {},
   "source": [
    "## Using Partial Least Squares"
   ]
  },
  {
   "cell_type": "code",
   "execution_count": 530,
   "metadata": {
    "collapsed": true
   },
   "outputs": [],
   "source": [
    "from sklearn.cross_decomposition import PLSRegression"
   ]
  },
  {
   "cell_type": "code",
   "execution_count": 531,
   "metadata": {},
   "outputs": [
    {
     "data": {
      "image/png": "[encoded data removed]",
      "text/plain": [
       "<matplotlib.figure.Figure at 0xe04ecc0>"
      ]
     },
     "metadata": {},
     "output_type": "display_data"
    }
   ],
   "source": [
    "n = len(X_train)\n",
    "\n",
    "# 10-fold CV, with shuffle\n",
    "kf_10 = KFold(n_splits=10, shuffle=True)\n",
    "\n",
    "mse = []\n",
    "\n",
    "for i in np.arange(1, 18):\n",
    "    pls = PLSRegression(n_components=i)\n",
    "    score = -1*cross_val_score(pls, scale(X_train), y_train, cv=kf_10, scoring='neg_mean_squared_error').mean()\n",
    "    mse.append(score)\n",
    "\n",
    "plt.plot(np.arange(1, 18), np.array(mse), '-v')\n",
    "plt.xlabel('Number of principal components in regression')\n",
    "plt.ylabel('MSE')\n",
    "plt.title('Number of Applications')\n",
    "plt.xlim(xmin=-1)\n",
    "plt.show()"
   ]
  },
  {
   "cell_type": "markdown",
   "metadata": {},
   "source": [
    "The above plot demonstrates that the least training MSE while using PLS can be used when doing regression on 9 components."
   ]
  },
  {
   "cell_type": "code",
   "execution_count": 532,
   "metadata": {},
   "outputs": [
    {
     "data": {
      "text/plain": [
       "741776.98075556138"
      ]
     },
     "execution_count": 532,
     "metadata": {},
     "output_type": "execute_result"
    }
   ],
   "source": [
    "pls = PLSRegression(n_components=9)\n",
    "pls.fit(scale(X_train), y_train)\n",
    "\n",
    "mean_squared_error(y_test, pls.predict(scale(X_test)))"
   ]
  }
 ],
 "metadata": {
  "kernelspec": {
   "display_name": "Python 2",
   "language": "python",
   "name": "python2"
  },
  "language_info": {
   "codemirror_mode": {
    "name": "ipython",
    "version": 2
   },
   "file_extension": ".py",
   "mimetype": "text/x-python",
   "name": "python",
   "nbconvert_exporter": "python",
   "pygments_lexer": "ipython2",
   "version": "2.7.13"
  }
 },
 "nbformat": 4,
 "nbformat_minor": 2
}
