{
 "cells": [
  {
   "cell_type": "markdown",
   "metadata": {},
   "source": [
    "# Lab 6 \n",
    "\n",
    "Ali Tejani, amt3639\n",
    "\n",
    "Caroline Yao, chy253\n",
    "\n",
    "Allen Hwang, ah45755"
   ]
  },
  {
   "cell_type": "markdown",
   "metadata": {},
   "source": [
    "## Problem 1"
   ]
  },
  {
   "cell_type": "markdown",
   "metadata": {},
   "source": [
    "### Estimating beta with linear regression"
   ]
  },
  {
   "cell_type": "code",
   "execution_count": 481,
   "metadata": {
    "collapsed": true
   },
   "outputs": [],
   "source": [
    "import numpy as np\n",
    "from sklearn.linear_model import LinearRegression, Ridge"
   ]
  },
  {
   "cell_type": "code",
   "execution_count": 482,
   "metadata": {
    "collapsed": true
   },
   "outputs": [],
   "source": [
    "n = 51\n",
    "p = 50"
   ]
  },
  {
   "cell_type": "code",
   "execution_count": 483,
   "metadata": {
    "collapsed": true
   },
   "outputs": [],
   "source": [
    "def estimate_b(reg,n,p,seed=None):\n",
    "    np.random.seed(seed=seed)\n",
    "    b_hat = []\n",
    "    for _ in range(100):\n",
    "        X = np.random.normal(0,1,(n,p))\n",
    "        e = np.random.normal(0,.25,(n,1))\n",
    "        b = np.ones((p,1))\n",
    "        y = np.dot(X,b) + e\n",
    "        reg.fit(X,y)\n",
    "        reg.coef_\n",
    "        b_hat.append(reg.coef_)\n",
    "    b_hat = np.array(b_hat)\n",
    "    print b_hat.mean(axis=0).mean()\n",
    "    print b_hat.var(axis=0).mean()"
   ]
  },
  {
   "cell_type": "code",
   "execution_count": 484,
   "metadata": {},
   "outputs": [
    {
     "name": "stdout",
     "output_type": "stream",
     "text": [
      "1.00655839826\n",
      "0.227150750588\n"
     ]
    }
   ],
   "source": [
    "estimate_b(LinearRegression(fit_intercept=False),n,p,seed=1)"
   ]
  },
  {
   "cell_type": "code",
   "execution_count": 485,
   "metadata": {},
   "outputs": [
    {
     "name": "stdout",
     "output_type": "stream",
     "text": [
      "0.982576226953\n",
      "0.0641155927754\n",
      "0.950031875305\n",
      "0.0392228415033\n",
      "0.863646895296\n",
      "0.0623827708922\n",
      "0.642854600564\n",
      "0.091449034224\n",
      "0.268810522308\n",
      "0.0409478695197\n"
     ]
    }
   ],
   "source": [
    "alphas = [0.01,0.1,1,10,100]\n",
    "for a in alphas:\n",
    "    estimate_b(Ridge(alpha=a),n,p,seed=1)"
   ]
  },
  {
   "cell_type": "markdown",
   "metadata": {
    "collapsed": true
   },
   "source": [
    "## Problem 2: Chapter 6, Problem 9"
   ]
  },
  {
   "cell_type": "markdown",
   "metadata": {},
   "source": [
    "### a.  Split the data set into a training set and a test set"
   ]
  },
  {
   "cell_type": "code",
   "execution_count": 486,
   "metadata": {
    "collapsed": true
   },
   "outputs": [],
   "source": [
    "import pandas as pd\n",
    "from sklearn.model_selection import train_test_split\n",
    "from sklearn.metrics import accuracy_score\n",
    "np.random.seed()"
   ]
  },
  {
   "cell_type": "code",
   "execution_count": 487,
   "metadata": {
    "collapsed": true
   },
   "outputs": [],
   "source": [
    "college = pd.read_csv('College.csv',index_col=0)\n",
    "college['Private'] = college['Private'].replace('Yes',1).replace('No',0)\n",
    "collegeX = college[[i for i in college.axes[1] if i != 'Apps']]\n",
    "collegeY = college['Apps']\n",
    "college_trainX,college_testX,college_trainY,college_testY = train_test_split(collegeX,collegeY)"
   ]
  },
  {
   "cell_type": "markdown",
   "metadata": {},
   "source": [
    "### b. Fit a linear model using least squares on the training set, and report the test error obtained"
   ]
  },
  {
   "cell_type": "code",
   "execution_count": 488,
   "metadata": {
    "collapsed": true
   },
   "outputs": [],
   "source": [
    "def reg_score(reg):\n",
    "    reg.fit(college_trainX,college_trainY)\n",
    "    print reg.score(college_testX,college_testY)"
   ]
  },
  {
   "cell_type": "code",
   "execution_count": 489,
   "metadata": {
    "scrolled": true
   },
   "outputs": [
    {
     "name": "stdout",
     "output_type": "stream",
     "text": [
      "0.91907395571\n"
     ]
    }
   ],
   "source": [
    "reg_score(LinearRegression())"
   ]
  },
  {
   "cell_type": "markdown",
   "metadata": {},
   "source": [
    "### c.  Fit a ridge regression model on the training set, with λ chosen by cross-validation. Report the test error obtained."
   ]
  },
  {
   "cell_type": "code",
   "execution_count": 490,
   "metadata": {},
   "outputs": [
    {
     "name": "stdout",
     "output_type": "stream",
     "text": [
      "0.917704186648\n"
     ]
    },
    {
     "data": {
      "text/plain": [
       "100.0"
      ]
     },
     "execution_count": 490,
     "metadata": {},
     "output_type": "execute_result"
    }
   ],
   "source": [
    "from sklearn.linear_model import RidgeCV,LassoCV\n",
    "ridge_reg = RidgeCV(alphas=[0.001,0.005,0.01,0.05,0.1,0.5,1,10,100])\n",
    "reg_score(ridge_reg)\n",
    "ridge_reg.alpha_"
   ]
  },
  {
   "cell_type": "markdown",
   "metadata": {},
   "source": [
    "### d.  Fit a lasso model on the training set, with λ chosen by crossvalidation. Report the test error obtained, along with the number of non-zero coefficient estimates."
   ]
  },
  {
   "cell_type": "code",
   "execution_count": 491,
   "metadata": {},
   "outputs": [
    {
     "name": "stdout",
     "output_type": "stream",
     "text": [
      "0.917040121118\n",
      "100.0\n",
      "[ -0.00000000e+00   1.64025416e+00  -7.96964269e-01   3.80796460e+01\n",
      "  -7.75219978e+00   4.15798888e-02   8.15921970e-02  -9.94322890e-02\n",
      "   7.91305456e-02  -1.25698902e-01   2.90662004e-03  -6.18744115e+00\n",
      "  -4.23860922e+00   2.32248809e+01   1.39469676e+00   1.07631842e-01\n",
      "   6.55439108e+00]\n"
     ]
    }
   ],
   "source": [
    "lasso_reg = LassoCV(alphas=[0.0001,0.001,0.005,0.01,0.05,0.1,0.5,1,10,100])\n",
    "reg_score(lasso_reg)\n",
    "print lasso_reg.alpha_\n",
    "print lasso_reg.coef_"
   ]
  },
  {
   "cell_type": "markdown",
   "metadata": {
    "collapsed": true
   },
   "source": [
    "### e. Fit a PCR model on the training set, with M chosen by cross-validation. Report the test error obtained, along with the value of M selected by cross-validation"
   ]
  },
  {
   "cell_type": "code",
   "execution_count": 492,
   "metadata": {
    "collapsed": true
   },
   "outputs": [],
   "source": [
    "from sklearn.decomposition import PCA\n",
    "from sklearn.model_selection import GridSearchCV\n",
    "from sklearn.pipeline import Pipeline\n",
    "pca = PCA()\n",
    "linreg = LinearRegression()\n",
    "pipe = Pipeline(steps=[('pca',pca),('linear',linreg)])"
   ]
  },
  {
   "cell_type": "code",
   "execution_count": 493,
   "metadata": {},
   "outputs": [
    {
     "name": "stdout",
     "output_type": "stream",
     "text": [
      "0.91907395571\n",
      "{'pca__n_components': 17}\n"
     ]
    }
   ],
   "source": [
    "gscv = GridSearchCV(pipe, dict(pca__n_components=np.arange(1,college_trainX.shape[1]+1)),cv=10)\n",
    "gscv.fit(college_trainX,college_trainY)\n",
    "print gscv.score(college_testX,college_testY)\n",
    "print gscv.best_params_"
   ]
  },
  {
   "cell_type": "markdown",
   "metadata": {},
   "source": [
    "### f. Fit a PLS model on the training set, with M chosen by crossvalidation. Report the test error obtained, along with the value of M selected by cross-validation."
   ]
  },
  {
   "cell_type": "code",
   "execution_count": 494,
   "metadata": {
    "collapsed": true
   },
   "outputs": [],
   "source": [
    "from sklearn.cross_decomposition import PLSRegression"
   ]
  },
  {
   "cell_type": "code",
   "execution_count": 497,
   "metadata": {},
   "outputs": [
    {
     "name": "stdout",
     "output_type": "stream",
     "text": [
      "0.909702851329\n",
      "0.908829712601\n"
     ]
    },
    {
     "data": {
      "text/plain": [
       "{'mean_fit_time': array([ 0.00349998,  0.00200002,  0.00449998,  0.0016    ,  0.005     ,\n",
       "         0.0049    ,  0.0062    ,  0.00339999,  0.0036    ,  0.00470002,\n",
       "         0.0049    ,  0.00339999,  0.00780001,  0.0049    ,  0.00480001,\n",
       "         0.00670002,  0.005     ]),\n",
       " 'mean_score_time': array([  6.99996948e-04,   2.99978256e-04,   3.00025940e-04,\n",
       "          0.00000000e+00,   3.99994850e-04,   9.99927521e-05,\n",
       "          1.60000324e-03,   1.70001984e-03,   0.00000000e+00,\n",
       "          0.00000000e+00,   9.99927521e-05,   1.60000324e-03,\n",
       "          0.00000000e+00,   9.99927521e-05,   0.00000000e+00,\n",
       "          0.00000000e+00,   1.60000324e-03]),\n",
       " 'mean_test_score': array([ 0.7669108 ,  0.83769125,  0.86952916,  0.88135124,  0.89804753,\n",
       "         0.90591822,  0.90708938,  0.90832091,  0.90854485,  0.90858227,\n",
       "         0.90882971,  0.90867926,  0.90874952,  0.90879676,  0.90879438,\n",
       "         0.90881104,  0.9088109 ]),\n",
       " 'mean_train_score': array([ 0.76620373,  0.84184187,  0.87336976,  0.90577346,  0.92244485,\n",
       "         0.92724597,  0.92788421,  0.92833547,  0.92878468,  0.92906656,\n",
       "         0.92919716,  0.92925699,  0.92929842,  0.92930802,  0.92930656,\n",
       "         0.92930596,  0.92930584]),\n",
       " 'param_n_components': masked_array(data = [1 2 3 4 5 6 7 8 9 10 11 12 13 14 15 16 17],\n",
       "              mask = [False False False False False False False False False False False False\n",
       "  False False False False False],\n",
       "        fill_value = ?),\n",
       " 'params': ({'n_components': 1},\n",
       "  {'n_components': 2},\n",
       "  {'n_components': 3},\n",
       "  {'n_components': 4},\n",
       "  {'n_components': 5},\n",
       "  {'n_components': 6},\n",
       "  {'n_components': 7},\n",
       "  {'n_components': 8},\n",
       "  {'n_components': 9},\n",
       "  {'n_components': 10},\n",
       "  {'n_components': 11},\n",
       "  {'n_components': 12},\n",
       "  {'n_components': 13},\n",
       "  {'n_components': 14},\n",
       "  {'n_components': 15},\n",
       "  {'n_components': 16},\n",
       "  {'n_components': 17}),\n",
       " 'rank_test_score': array([17, 16, 15, 14, 13, 12, 11, 10,  9,  8,  1,  7,  6,  4,  5,  2,  3]),\n",
       " 'split0_test_score': array([ 0.6678227 ,  0.76011632,  0.81035029,  0.85692301,  0.91278916,\n",
       "         0.93934628,  0.94616094,  0.94779267,  0.94877757,  0.94961671,\n",
       "         0.94944936,  0.9498792 ,  0.95006575,  0.9501313 ,  0.95036379,\n",
       "         0.95040113,  0.95040856]),\n",
       " 'split0_train_score': array([ 0.81285035,  0.85952033,  0.890734  ,  0.90067167,  0.90819306,\n",
       "         0.91133864,  0.91161107,  0.91183615,  0.91180806,  0.91203248,\n",
       "         0.91225239,  0.91214941,  0.91209198,  0.91210887,  0.9120883 ,\n",
       "         0.91208236,  0.91208086]),\n",
       " 'split1_test_score': array([ 0.80282222,  0.8742054 ,  0.90388093,  0.90738929,  0.91780882,\n",
       "         0.91780487,  0.91660814,  0.92021896,  0.92082653,  0.92353317,\n",
       "         0.92387115,  0.92456877,  0.92471896,  0.92469004,  0.92467248,\n",
       "         0.9246949 ,  0.92469167]),\n",
       " 'split1_train_score': array([ 0.76053028,  0.83467657,  0.86978329,  0.90623058,  0.92347565,\n",
       "         0.9278437 ,  0.92847752,  0.92884102,  0.92921666,  0.92947873,\n",
       "         0.9296284 ,  0.92971875,  0.92976942,  0.9297805 ,  0.9297811 ,\n",
       "         0.92978137,  0.92978141]),\n",
       " 'split2_test_score': array([ 0.7293208 ,  0.78482163,  0.84073295,  0.83935103,  0.84791088,\n",
       "         0.85682867,  0.85270305,  0.85154809,  0.85325463,  0.85528221,\n",
       "         0.85800366,  0.85752471,  0.85586375,  0.85590921,  0.85594649,\n",
       "         0.8559566 ,  0.85595785]),\n",
       " 'split2_train_score': array([ 0.76249461,  0.85188113,  0.87623623,  0.91117126,  0.92780676,\n",
       "         0.93284154,  0.93349214,  0.93389559,  0.93435359,  0.93461984,\n",
       "         0.9347268 ,  0.93480906,  0.93486438,  0.93486902,  0.93487065,\n",
       "         0.9348704 ,  0.93487046]),\n",
       " 'split3_test_score': array([ 0.71759988,  0.85056734,  0.88292129,  0.86083772,  0.8763309 ,\n",
       "         0.90481462,  0.90370575,  0.90694114,  0.9074724 ,  0.90764937,\n",
       "         0.9079735 ,  0.90821206,  0.90738071,  0.90718742,  0.90717207,\n",
       "         0.90717636,  0.90717359]),\n",
       " 'split3_train_score': array([ 0.75572222,  0.85167019,  0.871544  ,  0.90568385,  0.92201407,\n",
       "         0.92973931,  0.93013762,  0.93066972,  0.93120634,  0.93143952,\n",
       "         0.93153673,  0.93164111,  0.93167399,  0.93168235,  0.93168355,\n",
       "         0.93168354,  0.93168356]),\n",
       " 'split4_test_score': array([ 0.63021657,  0.77969314,  0.84430824,  0.84420874,  0.84376952,\n",
       "         0.85600421,  0.85971497,  0.86149046,  0.86024633,  0.85713728,\n",
       "         0.85931242,  0.85807212,  0.85648705,  0.85639606,  0.8564661 ,\n",
       "         0.85647061,  0.85646792]),\n",
       " 'split4_train_score': array([ 0.76483106,  0.83296654,  0.87233541,  0.90787005,  0.9273647 ,\n",
       "         0.93031994,  0.93100625,  0.93142046,  0.93197963,  0.93223473,\n",
       "         0.93233718,  0.93245779,  0.93254662,  0.93254562,  0.93254547,\n",
       "         0.93254573,  0.93254569]),\n",
       " 'split5_test_score': array([ 0.86282979,  0.84270233,  0.86331187,  0.85499386,  0.87485545,\n",
       "         0.87317293,  0.87448419,  0.87599563,  0.87932645,  0.88176338,\n",
       "         0.88133901,  0.87992616,  0.87960691,  0.87925203,  0.87903957,\n",
       "         0.87901704,  0.87901518]),\n",
       " 'split5_train_score': array([ 0.76013935,  0.8427482 ,  0.87129116,  0.90681655,  0.92628842,\n",
       "         0.93142968,  0.93213608,  0.93258307,  0.93322935,  0.93345913,\n",
       "         0.93349455,  0.93352931,  0.93356875,  0.93356721,  0.93356694,\n",
       "         0.93356482,  0.933565  ]),\n",
       " 'split6_test_score': array([ 0.80315738,  0.89080256,  0.91397546,  0.92323014,  0.92172293,\n",
       "         0.92600339,  0.92472428,  0.9255929 ,  0.92647064,  0.92751321,\n",
       "         0.92766744,  0.92976557,  0.93344297,  0.93481965,  0.93478356,\n",
       "         0.93482665,  0.93482084]),\n",
       " 'split6_train_score': array([ 0.75952479,  0.83393771,  0.86740498,  0.90188536,  0.92049145,\n",
       "         0.92681937,  0.92756302,  0.92796934,  0.92819289,  0.92831421,\n",
       "         0.92837327,  0.92842049,  0.92847706,  0.92850509,  0.92850746,\n",
       "         0.92850791,  0.9285079 ]),\n",
       " 'split7_test_score': array([ 0.8796447 ,  0.90794955,  0.89771124,  0.94670524,  0.95280502,\n",
       "         0.9623427 ,  0.96537184,  0.96785853,  0.96641046,  0.96350573,\n",
       "         0.96127807,  0.96049626,  0.96099883,  0.96096708,  0.96075345,\n",
       "         0.96076395,  0.96076263]),\n",
       " 'split7_train_score': array([ 0.7587778 ,  0.82873771,  0.87026726,  0.90582225,  0.92036136,\n",
       "         0.92440397,  0.9249766 ,  0.92553988,  0.92606967,  0.92657262,\n",
       "         0.92682816,  0.92690884,  0.92696826,  0.92698885,  0.92698807,\n",
       "         0.92698807,  0.92698807]),\n",
       " 'split8_test_score': array([ 0.79516877,  0.86383096,  0.8754023 ,  0.87781764,  0.89958397,\n",
       "         0.89294656,  0.89818401,  0.90120612,  0.90011235,  0.89976113,\n",
       "         0.89953379,  0.8987567 ,  0.89889114,  0.89827576,  0.89829608,\n",
       "         0.89830892,  0.89830861]),\n",
       " 'split8_train_score': array([ 0.7611175 ,  0.85189111,  0.87319632,  0.90776986,  0.92550935,\n",
       "         0.930401  ,  0.93120481,  0.93171436,  0.93218063,  0.93257702,\n",
       "         0.9327318 ,  0.93280878,  0.93285184,  0.93285352,  0.93285385,\n",
       "         0.93285391,  0.93285392]),\n",
       " 'split9_test_score': array([ 0.78161438,  0.82293126,  0.86312509,  0.90202794,  0.93230373,\n",
       "         0.92913669,  0.92839883,  0.92367894,  0.9216457 ,  0.91909526,\n",
       "         0.91890904,  0.9186068 ,  0.91905147,  0.91935238,  0.91945973,\n",
       "         0.91950327,  0.91951119]),\n",
       " 'split9_train_score': array([ 0.76604932,  0.83038918,  0.87090495,  0.90381318,  0.92294369,\n",
       "         0.92732259,  0.928237  ,  0.92888509,  0.92960999,  0.92993734,\n",
       "         0.93006231,  0.93012639,  0.93017191,  0.93017916,  0.93018019,\n",
       "         0.93018145,  0.9301815 ]),\n",
       " 'std_fit_time': array([ 0.00233454,  0.00141421,  0.00615229,  0.00480001,  0.00609918,\n",
       "         0.00707742,  0.00760001,  0.00685855,  0.00631191,  0.00718404,\n",
       "         0.00748933,  0.0061188 ,  0.00780769,  0.00707742,  0.00733214,\n",
       "         0.00748397,  0.00687023]),\n",
       " 'std_score_time': array([ 0.00064033,  0.00045822,  0.0004583 ,  0.        ,  0.00048989,\n",
       "         0.00029998,  0.00480001,  0.00477599,  0.        ,  0.        ,\n",
       "         0.00029998,  0.00480001,  0.        ,  0.00029998,  0.        ,\n",
       "         0.        ,  0.00480001]),\n",
       " 'std_test_score': array([ 0.07607092,  0.04733782,  0.03042944,  0.03461139,  0.03432449,\n",
       "         0.03392625,  0.03481561,  0.03504163,  0.03451963,  0.0341627 ,\n",
       "         0.03310013,  0.03357994,  0.03446366,  0.03463098,  0.03462831,\n",
       "         0.03463933,  0.03464009]),\n",
       " 'std_train_score': array([ 0.0157988 ,  0.01052231,  0.00618571,  0.00289505,  0.00538411,\n",
       "         0.00579741,  0.00590955,  0.0059672 ,  0.00612509,  0.00613187,\n",
       "         0.0060928 ,  0.0061439 ,  0.00617404,  0.00616905,  0.00617499,\n",
       "         0.0061765 ,  0.00617694])}"
      ]
     },
     "execution_count": 497,
     "metadata": {},
     "output_type": "execute_result"
    }
   ],
   "source": [
    "from sklearn.preprocessing import scale \n",
    "pls = PLSRegression()\n",
    "# pls.fit(scale(college_trainX),college_trainY)\n",
    "# pls.score(scale(college_testX),college_testY)\n",
    "gscv = GridSearchCV(pls, dict(n_components=np.arange(1,college_trainX.shape[1]+1)),cv=10)\n",
    "gscv.fit(scale(college_trainX),college_trainY)\n",
    "print gscv.score(scale(college_testX),college_testY)\n",
    "print gscv.best_score_\n",
    "gscv.cv_results_"
   ]
  },
  {
   "cell_type": "code",
   "execution_count": null,
   "metadata": {
    "collapsed": true
   },
   "outputs": [],
   "source": []
  }
 ],
 "metadata": {
  "kernelspec": {
   "display_name": "Python 2",
   "language": "python",
   "name": "python2"
  },
  "language_info": {
   "codemirror_mode": {
    "name": "ipython",
    "version": 2
   },
   "file_extension": ".py",
   "mimetype": "text/x-python",
   "name": "python",
   "nbconvert_exporter": "python",
   "pygments_lexer": "ipython2",
   "version": "2.7.13"
  }
 },
 "nbformat": 4,
 "nbformat_minor": 2
}
