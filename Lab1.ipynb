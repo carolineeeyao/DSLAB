{
 "cells": [
  {
   "cell_type": "code",
   "execution_count": 13,
   "metadata": {
    "collapsed": true
   },
   "outputs": [],
   "source": [
    "import pandas as pd\n",
    "import numpy as np\n",
    "import matplotlib.pyplot as plt\n",
    "%matplotlib inline"
   ]
  },
  {
   "cell_type": "markdown",
   "metadata": {
    "collapsed": true
   },
   "source": [
    "Problem 1"
   ]
  },
  {
   "cell_type": "markdown",
   "metadata": {},
   "source": [
    "(a)"
   ]
  },
  {
   "cell_type": "code",
   "execution_count": 14,
   "metadata": {},
   "outputs": [],
   "source": [
    "# take 1000 samples from gaussian distribution with mean -10 and standard deviation 5\n",
    "gaussian1 = np.random.normal(-10,5,1000)\n",
    "# take 1000 samples from gaussian distribution with mean 10 and standard deviation 5\n",
    "gaussian2 = np.random.normal(10,5,1000)"
   ]
  },
  {
   "cell_type": "code",
   "execution_count": 15,
   "metadata": {},
   "outputs": [
    {
     "data": {
      "text/plain": [
       "(array([  12.,   34.,   89.,  179.,  253.,  199.,  133.,   75.,   21.,    5.]),\n",
       " array([ -4.67514854,  -1.6324221 ,   1.41030434,   4.45303079,\n",
       "          7.49575723,  10.53848368,  13.58121012,  16.62393657,\n",
       "         19.66666301,  22.70938946,  25.7521159 ]),\n",
       " <a list of 10 Patch objects>)"
      ]
     },
     "execution_count": 15,
     "metadata": {},
     "output_type": "execute_result"
    },
    {
     "data": {
      "image/png": "[encoded data removed]",
      "text/plain": [
       "<matplotlib.figure.Figure at 0xba14b38>"
      ]
     },
     "metadata": {},
     "output_type": "display_data"
    }
   ],
   "source": [
    "# plot histograms for both sets of points\n",
    "plt.hist(gaussian1)\n",
    "plt.hist(gaussian2)"
   ]
  },
  {
   "cell_type": "code",
   "execution_count": 16,
   "metadata": {},
   "outputs": [
    {
     "data": {
      "text/plain": [
       "(array([   2.,   12.,   47.,  113.,  223.,  275.,  182.,  108.,   26.,   12.]),\n",
       " array([-25.70966212, -20.94992374, -16.19018536, -11.43044699,\n",
       "         -6.67070861,  -1.91097023,   2.84876814,   7.60850652,\n",
       "         12.3682449 ,  17.12798328,  21.88772165]),\n",
       " <a list of 10 Patch objects>)"
      ]
     },
     "execution_count": 16,
     "metadata": {},
     "output_type": "execute_result"
    },
    {
     "data": {
      "image/png": "[encoded data removed]",
      "text/plain": [
       "<matplotlib.figure.Figure at 0xbd2a668>"
      ]
     },
     "metadata": {},
     "output_type": "display_data"
    }
   ],
   "source": [
    "# add two sets together, point by point and plot histogram\n",
    "sum1 = gaussian1 + gaussian2\n",
    "plt.hist(sum1)"
   ]
  },
  {
   "cell_type": "code",
   "execution_count": 17,
   "metadata": {},
   "outputs": [
    {
     "data": {
      "text/plain": [
       "<matplotlib.axes._subplots.AxesSubplot at 0xbf83080>"
      ]
     },
     "execution_count": 17,
     "metadata": {},
     "output_type": "execute_result"
    },
    {
     "data": {
      "image/png": "[encoded data removed]",
      "text/plain": [
       "<matplotlib.figure.Figure at 0xc086748>"
      ]
     },
     "metadata": {},
     "output_type": "display_data"
    }
   ],
   "source": [
    "sumSeries = pd.Series(sum1)\n",
    "sumSeries.hist()"
   ]
  },
  {
   "cell_type": "markdown",
   "metadata": {},
   "source": [
    "(b)"
   ]
  },
  {
   "cell_type": "code",
   "execution_count": 18,
   "metadata": {},
   "outputs": [
    {
     "data": {
      "text/plain": [
       "-0.1316350375765552"
      ]
     },
     "execution_count": 18,
     "metadata": {},
     "output_type": "execute_result"
    }
   ],
   "source": [
    "# mean of set\n",
    "sumSeries.mean()"
   ]
  },
  {
   "cell_type": "code",
   "execution_count": 19,
   "metadata": {},
   "outputs": [
    {
     "data": {
      "text/plain": [
       "7.2280249979990225"
      ]
     },
     "execution_count": 19,
     "metadata": {},
     "output_type": "execute_result"
    }
   ],
   "source": [
    "# standard deviation of set\n",
    "sumSeries.std()"
   ]
  },
  {
   "cell_type": "markdown",
   "metadata": {},
   "source": [
    "Problem 2"
   ]
  },
  {
   "cell_type": "code",
   "execution_count": 20,
   "metadata": {},
   "outputs": [
    {
     "data": {
      "text/plain": [
       "<matplotlib.axes._subplots.AxesSubplot at 0xc0a72e8>"
      ]
     },
     "execution_count": 20,
     "metadata": {},
     "output_type": "execute_result"
    },
    {
     "data": {
      "image/png": "[encoded data removed]",
      "text/plain": [
       "<matplotlib.figure.Figure at 0xbfd1898>"
      ]
     },
     "metadata": {},
     "output_type": "display_data"
    }
   ],
   "source": [
    "n=5\n",
    "# take n*1000 samples of bernoulli distribution with values {-1,1} and probability 1/2\n",
    "dist2 = np.random.choice([1,-1],(n,1000))\n",
    "# average each set of n samples to sample Zn 1000 times and plot the histogram\n",
    "bernSeries = pd.Series(dist2.mean(0))\n",
    "bernSeries.hist()"
   ]
  },
  {
   "cell_type": "code",
   "execution_count": 21,
   "metadata": {},
   "outputs": [
    {
     "data": {
      "text/plain": [
       "<matplotlib.axes._subplots.AxesSubplot at 0xc496898>"
      ]
     },
     "execution_count": 21,
     "metadata": {},
     "output_type": "execute_result"
    },
    {
     "data": {
      "image/png": "[encoded data removed]",
      "text/plain": [
       "<matplotlib.figure.Figure at 0xba495c0>"
      ]
     },
     "metadata": {},
     "output_type": "display_data"
    }
   ],
   "source": [
    "# repeat with n = 30\n",
    "n=30\n",
    "dist2 = np.random.choice([1,-1],(n,1000))\n",
    "bernSeries = pd.Series(dist2.mean(0))\n",
    "bernSeries.hist()"
   ]
  },
  {
   "cell_type": "code",
   "execution_count": 22,
   "metadata": {},
   "outputs": [
    {
     "data": {
      "text/plain": [
       "<matplotlib.axes._subplots.AxesSubplot at 0xc5edeb8>"
      ]
     },
     "execution_count": 22,
     "metadata": {},
     "output_type": "execute_result"
    },
    {
     "data": {
      "image/png": "[encoded data removed]",
      "text/plain": [
       "<matplotlib.figure.Figure at 0xc60cb70>"
      ]
     },
     "metadata": {},
     "output_type": "display_data"
    }
   ],
   "source": [
    "# repeat with n = 250\n",
    "n=250\n",
    "dist2 = np.random.choice([1,-1],(n,1000))\n",
    "bernSeries = pd.Series(dist2.mean(0))\n",
    "bernSeries.hist()"
   ]
  },
  {
   "cell_type": "markdown",
   "metadata": {},
   "source": [
    "Problem 3"
   ]
  },
  {
   "cell_type": "code",
   "execution_count": 23,
   "metadata": {},
   "outputs": [
    {
     "data": {
      "text/plain": [
       "0.020900880896385064"
      ]
     },
     "execution_count": 23,
     "metadata": {},
     "output_type": "execute_result"
    }
   ],
   "source": [
    "# take 25000 samples from gaussian distribution\n",
    "gauss3 = np.random.normal(0,5,25000)\n",
    "# determine mean of distribution\n",
    "mean3 = gauss3.sum()/gauss3.size\n",
    "mean3"
   ]
  },
  {
   "cell_type": "code",
   "execution_count": 24,
   "metadata": {},
   "outputs": [
    {
     "data": {
      "text/plain": [
       "5.0188522563880813"
      ]
     },
     "execution_count": 24,
     "metadata": {},
     "output_type": "execute_result"
    }
   ],
   "source": [
    "# determine standard deviation of distribution by finding the distance of each point from the mean\n",
    "# then averaging the distances and taking the square root\n",
    "diff3 = gauss3 - mean3\n",
    "distance3 = diff3**2\n",
    "stddev3 = np.sqrt(distance3.sum()/distance3.size)\n",
    "stddev3"
   ]
  },
  {
   "cell_type": "markdown",
   "metadata": {},
   "source": [
    "Problem 4"
   ]
  },
  {
   "cell_type": "code",
   "execution_count": 25,
   "metadata": {
    "scrolled": true
   },
   "outputs": [
    {
     "data": {
      "text/plain": [
       "array([[ -2.1270786 ,   8.91100035],\n",
       "       [ -0.84330294,   1.09236169],\n",
       "       [ -3.28758507,  10.52370548],\n",
       "       ..., \n",
       "       [ -9.905634  ,   3.10671774],\n",
       "       [ -8.14374101,   6.52756709],\n",
       "       [ -9.93278783,  -3.6637888 ]])"
      ]
     },
     "execution_count": 25,
     "metadata": {},
     "output_type": "execute_result"
    }
   ],
   "source": [
    "# take 10000 samples from the multivariate normal distribution\n",
    "multigauss4 = np.random.multivariate_normal([-5,5],[[20,.8],[.8,30]],10000)\n",
    "multigauss4"
   ]
  },
  {
   "cell_type": "code",
   "execution_count": 26,
   "metadata": {},
   "outputs": [
    {
     "data": {
      "text/plain": [
       "array([-4.97214875,  5.06508348])"
      ]
     },
     "execution_count": 26,
     "metadata": {},
     "output_type": "execute_result"
    }
   ],
   "source": [
    "# find the mean of x values and y values separately \n",
    "mean4 = multigauss4.sum(0)/multigauss4.shape[0]\n",
    "meanX4 = mean4[0]\n",
    "meanY4 = mean4[0]\n",
    "mean4"
   ]
  },
  {
   "cell_type": "code",
   "execution_count": 27,
   "metadata": {},
   "outputs": [
    {
     "data": {
      "text/plain": [
       "array([ 19.84672719,  29.89720966])"
      ]
     },
     "execution_count": 27,
     "metadata": {},
     "output_type": "execute_result"
    }
   ],
   "source": [
    "# find the variance of X by taking the distance of each x point from the mean of X and finding the average\n",
    "# do the same for y\n",
    "diff4 = multigauss4 - mean4\n",
    "distance4 = diff4**2\n",
    "var4 = distance4.sum(0)/distance4.shape[0]\n",
    "varX4 = var4[0]\n",
    "varY4 = var4[0]\n",
    "var4"
   ]
  },
  {
   "cell_type": "code",
   "execution_count": 28,
   "metadata": {},
   "outputs": [
    {
     "data": {
      "text/plain": [
       "0.78993579630838262"
      ]
     },
     "execution_count": 28,
     "metadata": {},
     "output_type": "execute_result"
    }
   ],
   "source": [
    "# find the covariance of X and Y by multiplying (x-E[X]) and (y-E[Y]) for each point (x,y) then find the average for all points\n",
    "prod4 = np.prod(diff4,1)\n",
    "cov4 = prod4.sum()/prod4.size\n",
    "cov4"
   ]
  },
  {
   "cell_type": "markdown",
   "metadata": {},
   "source": [
    "Problem 5"
   ]
  }
 ],
 "metadata": {
  "kernelspec": {
   "display_name": "Python 2",
   "language": "python",
   "name": "python2"
  },
  "language_info": {
   "codemirror_mode": {
    "name": "ipython",
    "version": 2
   },
   "file_extension": ".py",
   "mimetype": "text/x-python",
   "name": "python",
   "nbconvert_exporter": "python",
   "pygments_lexer": "ipython2",
   "version": "2.7.13"
  }
 },
 "nbformat": 4,
 "nbformat_minor": 2
}
